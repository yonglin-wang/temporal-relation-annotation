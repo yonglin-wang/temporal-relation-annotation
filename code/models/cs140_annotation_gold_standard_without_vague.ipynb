{
  "nbformat": 4,
  "nbformat_minor": 0,
  "metadata": {
    "colab": {
      "name": "Copy of cs140-annotation_gold_standard_without_vague.ipynb",
      "provenance": [],
      "collapsed_sections": []
    },
    "kernelspec": {
      "name": "python3",
      "display_name": "Python 3"
    }
  },
  "cells": [
    {
      "cell_type": "markdown",
      "metadata": {
        "id": "ubXjuh3GO8ry",
        "colab_type": "text"
      },
      "source": [
        "## CS140 - Group B\n"
      ]
    },
    {
      "cell_type": "code",
      "metadata": {
        "id": "HEc4Ca3OauPQ",
        "colab_type": "code",
        "colab": {}
      },
      "source": [
        "import pandas as pd\n",
        "from sklearn.preprocessing import LabelEncoder,OneHotEncoder\n",
        "from sklearn.base import TransformerMixin\n",
        "from sklearn.linear_model import LogisticRegression\n",
        "from sklearn.pipeline import FeatureUnion, Pipeline\n",
        "from sklearn.naive_bayes import BernoulliNB\n",
        "from sklearn.model_selection import train_test_split\n",
        "from sklearn.metrics import accuracy_score, confusion_matrix, classification_report \n",
        "from sklearn.ensemble import RandomForestClassifier\n",
        "from plotly.offline import iplot\n",
        "from imblearn.over_sampling import SMOTE\n",
        "from imblearn.pipeline import Pipeline\n",
        "from sklearn.model_selection import train_test_split as tts"
      ],
      "execution_count": 0,
      "outputs": []
    },
    {
      "cell_type": "code",
      "metadata": {
        "id": "SL8LWIfgPTVL",
        "colab_type": "code",
        "outputId": "ccf0bdb5-d4a1-4e26-87b8-ad2317f29875",
        "colab": {
          "base_uri": "https://localhost:8080/",
          "height": 17
        }
      },
      "source": [
        "import cufflinks as cf\n",
        "cf.go_offline()\n",
        "cf.set_config_file(offline=False, world_readable=True)"
      ],
      "execution_count": 2,
      "outputs": [
        {
          "output_type": "display_data",
          "data": {
            "text/html": [
              "        <script type=\"text/javascript\">\n",
              "        window.PlotlyConfig = {MathJaxConfig: 'local'};\n",
              "        if (window.MathJax) {MathJax.Hub.Config({SVG: {font: \"STIX-Web\"}});}\n",
              "        if (typeof require !== 'undefined') {\n",
              "        require.undef(\"plotly\");\n",
              "        requirejs.config({\n",
              "            paths: {\n",
              "                'plotly': ['https://cdn.plot.ly/plotly-latest.min']\n",
              "            }\n",
              "        });\n",
              "        require(['plotly'], function(Plotly) {\n",
              "            window._Plotly = Plotly;\n",
              "        });\n",
              "        }\n",
              "        </script>\n",
              "        "
            ]
          },
          "metadata": {
            "tags": []
          }
        }
      ]
    },
    {
      "cell_type": "code",
      "metadata": {
        "id": "NJmdDHxmcIP2",
        "colab_type": "code",
        "colab": {}
      },
      "source": [
        "TAGS = ['CC', 'CD', 'DT', 'EX', 'FW', 'IN', 'JJ', 'JJR', 'JJS', 'LS', 'MD', 'NN', 'NNS', 'NNP', 'NNPS', 'PDT', 'POS', 'PRP', 'PRP$', 'RB', 'RBR', 'RBS', 'RP', 'TO', 'UH', 'VB', 'VBD', 'VBG', 'VBN', 'VBP', 'VBZ', 'WDT', 'WP', 'WP$', 'WRB']\n",
        "MODALS = ['will', 'would', 'can', 'could', 'may', 'might']\n",
        "TEMPS = ['before', 'after', 'since']"
      ],
      "execution_count": 0,
      "outputs": []
    },
    {
      "cell_type": "code",
      "metadata": {
        "id": "ejtDkZ6IaWPk",
        "colab_type": "code",
        "colab": {}
      },
      "source": [
        "df = pd.read_csv('https://raw.githubusercontent.com/YonglinWang-Brandeis/cs140-groupB-annotation-files/master/code/features_gold.csv')"
      ],
      "execution_count": 0,
      "outputs": []
    },
    {
      "cell_type": "code",
      "metadata": {
        "id": "aAsUct5GaWUh",
        "colab_type": "code",
        "outputId": "a5567e38-842c-423b-dc69-00cbd8c22cd4",
        "colab": {
          "base_uri": "https://localhost:8080/",
          "height": 204
        }
      },
      "source": [
        "df.head()\n"
      ],
      "execution_count": 31,
      "outputs": [
        {
          "output_type": "execute_result",
          "data": {
            "text/html": [
              "<div>\n",
              "<style scoped>\n",
              "    .dataframe tbody tr th:only-of-type {\n",
              "        vertical-align: middle;\n",
              "    }\n",
              "\n",
              "    .dataframe tbody tr th {\n",
              "        vertical-align: top;\n",
              "    }\n",
              "\n",
              "    .dataframe thead th {\n",
              "        text-align: right;\n",
              "    }\n",
              "</style>\n",
              "<table border=\"1\" class=\"dataframe\">\n",
              "  <thead>\n",
              "    <tr style=\"text-align: right;\">\n",
              "      <th></th>\n",
              "      <th>POS1</th>\n",
              "      <th>POS2</th>\n",
              "      <th>BEFORE_1</th>\n",
              "      <th>AFTER_1</th>\n",
              "      <th>BEFORE_2</th>\n",
              "      <th>AFTER_2</th>\n",
              "      <th>DISTANCE</th>\n",
              "      <th>MODAL</th>\n",
              "      <th>TEMP_BEFORE</th>\n",
              "      <th>TEMP_AFTER</th>\n",
              "      <th>TEMP_SINCE</th>\n",
              "      <th>SYN</th>\n",
              "      <th>DERIVATION</th>\n",
              "      <th>RELATION</th>\n",
              "    </tr>\n",
              "  </thead>\n",
              "  <tbody>\n",
              "    <tr>\n",
              "      <th>0</th>\n",
              "      <td>VBD</td>\n",
              "      <td>VBG</td>\n",
              "      <td>NNP</td>\n",
              "      <td>PRP</td>\n",
              "      <td>VBD</td>\n",
              "      <td>NNS</td>\n",
              "      <td>3</td>\n",
              "      <td>0</td>\n",
              "      <td>0.0</td>\n",
              "      <td>0.0</td>\n",
              "      <td>0.0</td>\n",
              "      <td>0</td>\n",
              "      <td>0</td>\n",
              "      <td>after</td>\n",
              "    </tr>\n",
              "    <tr>\n",
              "      <th>1</th>\n",
              "      <td>VBZ</td>\n",
              "      <td>VBD</td>\n",
              "      <td>EX</td>\n",
              "      <td>DT</td>\n",
              "      <td>NNP</td>\n",
              "      <td>PRP</td>\n",
              "      <td>6</td>\n",
              "      <td>0</td>\n",
              "      <td>0.0</td>\n",
              "      <td>0.0</td>\n",
              "      <td>0.0</td>\n",
              "      <td>0</td>\n",
              "      <td>0</td>\n",
              "      <td>vague</td>\n",
              "    </tr>\n",
              "    <tr>\n",
              "      <th>2</th>\n",
              "      <td>VBZ</td>\n",
              "      <td>VBD</td>\n",
              "      <td>EX</td>\n",
              "      <td>DT</td>\n",
              "      <td>NNS</td>\n",
              "      <td>NNP</td>\n",
              "      <td>16</td>\n",
              "      <td>0</td>\n",
              "      <td>0.0</td>\n",
              "      <td>0.0</td>\n",
              "      <td>0.0</td>\n",
              "      <td>0</td>\n",
              "      <td>0</td>\n",
              "      <td>vague</td>\n",
              "    </tr>\n",
              "    <tr>\n",
              "      <th>3</th>\n",
              "      <td>VBZ</td>\n",
              "      <td>VBN</td>\n",
              "      <td>EX</td>\n",
              "      <td>DT</td>\n",
              "      <td>RB</td>\n",
              "      <td>RBR</td>\n",
              "      <td>42</td>\n",
              "      <td>0</td>\n",
              "      <td>0.0</td>\n",
              "      <td>0.0</td>\n",
              "      <td>0.0</td>\n",
              "      <td>1</td>\n",
              "      <td>0</td>\n",
              "      <td>after</td>\n",
              "    </tr>\n",
              "    <tr>\n",
              "      <th>4</th>\n",
              "      <td>VBZ</td>\n",
              "      <td>VBP</td>\n",
              "      <td>EX</td>\n",
              "      <td>DT</td>\n",
              "      <td>PRP</td>\n",
              "      <td>JJR</td>\n",
              "      <td>47</td>\n",
              "      <td>0</td>\n",
              "      <td>0.0</td>\n",
              "      <td>0.0</td>\n",
              "      <td>0.0</td>\n",
              "      <td>0</td>\n",
              "      <td>0</td>\n",
              "      <td>after</td>\n",
              "    </tr>\n",
              "  </tbody>\n",
              "</table>\n",
              "</div>"
            ],
            "text/plain": [
              "  POS1 POS2 BEFORE_1 AFTER_1  ... TEMP_SINCE SYN  DERIVATION  RELATION\n",
              "0  VBD  VBG      NNP     PRP  ...        0.0   0           0     after\n",
              "1  VBZ  VBD       EX      DT  ...        0.0   0           0     vague\n",
              "2  VBZ  VBD       EX      DT  ...        0.0   0           0     vague\n",
              "3  VBZ  VBN       EX      DT  ...        0.0   1           0     after\n",
              "4  VBZ  VBP       EX      DT  ...        0.0   0           0     after\n",
              "\n",
              "[5 rows x 14 columns]"
            ]
          },
          "metadata": {
            "tags": []
          },
          "execution_count": 31
        }
      ]
    },
    {
      "cell_type": "code",
      "metadata": {
        "id": "KHmpiknGOBTm",
        "colab_type": "code",
        "outputId": "3e53ba97-a2ec-47e8-b924-2bb188429bee",
        "colab": {
          "base_uri": "https://localhost:8080/",
          "height": 374
        }
      },
      "source": [
        "df.info()"
      ],
      "execution_count": 32,
      "outputs": [
        {
          "output_type": "stream",
          "text": [
            "<class 'pandas.core.frame.DataFrame'>\n",
            "RangeIndex: 662 entries, 0 to 661\n",
            "Data columns (total 14 columns):\n",
            " #   Column       Non-Null Count  Dtype  \n",
            "---  ------       --------------  -----  \n",
            " 0   POS1         662 non-null    object \n",
            " 1   POS2         662 non-null    object \n",
            " 2   BEFORE_1     662 non-null    object \n",
            " 3   AFTER_1      662 non-null    object \n",
            " 4   BEFORE_2     662 non-null    object \n",
            " 5   AFTER_2      662 non-null    object \n",
            " 6   DISTANCE     662 non-null    int64  \n",
            " 7   MODAL        662 non-null    int64  \n",
            " 8   TEMP_BEFORE  662 non-null    float64\n",
            " 9   TEMP_AFTER   662 non-null    float64\n",
            " 10  TEMP_SINCE   662 non-null    float64\n",
            " 11  SYN          662 non-null    int64  \n",
            " 12  DERIVATION   662 non-null    int64  \n",
            " 13  RELATION     662 non-null    object \n",
            "dtypes: float64(3), int64(4), object(7)\n",
            "memory usage: 72.5+ KB\n"
          ],
          "name": "stdout"
        }
      ]
    },
    {
      "cell_type": "code",
      "metadata": {
        "id": "LWJFhYnsfgWH",
        "colab_type": "code",
        "outputId": "b70a921b-581e-4211-91cc-3d11ed4bed53",
        "colab": {
          "base_uri": "https://localhost:8080/",
          "height": 34
        }
      },
      "source": [
        "df.shape"
      ],
      "execution_count": 33,
      "outputs": [
        {
          "output_type": "execute_result",
          "data": {
            "text/plain": [
              "(662, 14)"
            ]
          },
          "metadata": {
            "tags": []
          },
          "execution_count": 33
        }
      ]
    },
    {
      "cell_type": "code",
      "metadata": {
        "id": "uo-zBf07k0i4",
        "colab_type": "code",
        "colab": {}
      },
      "source": [
        "def encode_labels(label):\n",
        "    if label == 'before':\n",
        "        return 0\n",
        "    elif label == 'after':\n",
        "        return 1\n",
        "    elif label == 'simultaneous':\n",
        "        return 2\n",
        "    else:\n",
        "        return 3"
      ],
      "execution_count": 0,
      "outputs": []
    },
    {
      "cell_type": "code",
      "metadata": {
        "id": "lyxD7Tjsk52i",
        "colab_type": "code",
        "colab": {}
      },
      "source": [
        "df_copy = df.copy()\n",
        "df['y'] = df_copy.RELATION.apply(encode_labels)"
      ],
      "execution_count": 0,
      "outputs": []
    },
    {
      "cell_type": "code",
      "metadata": {
        "id": "j-BuIHm6lcnp",
        "colab_type": "code",
        "outputId": "1305068c-bf74-4fdc-f9fc-d06ff0d02de1",
        "colab": {
          "base_uri": "https://localhost:8080/",
          "height": 204
        }
      },
      "source": [
        "\n",
        "df.drop(df.index[df['y'] == 3], inplace = True)\n",
        "# df = df.dropna(axis=0,how='any')\n",
        "df.head()"
      ],
      "execution_count": 37,
      "outputs": [
        {
          "output_type": "execute_result",
          "data": {
            "text/html": [
              "<div>\n",
              "<style scoped>\n",
              "    .dataframe tbody tr th:only-of-type {\n",
              "        vertical-align: middle;\n",
              "    }\n",
              "\n",
              "    .dataframe tbody tr th {\n",
              "        vertical-align: top;\n",
              "    }\n",
              "\n",
              "    .dataframe thead th {\n",
              "        text-align: right;\n",
              "    }\n",
              "</style>\n",
              "<table border=\"1\" class=\"dataframe\">\n",
              "  <thead>\n",
              "    <tr style=\"text-align: right;\">\n",
              "      <th></th>\n",
              "      <th>POS1</th>\n",
              "      <th>POS2</th>\n",
              "      <th>BEFORE_1</th>\n",
              "      <th>AFTER_1</th>\n",
              "      <th>BEFORE_2</th>\n",
              "      <th>AFTER_2</th>\n",
              "      <th>DISTANCE</th>\n",
              "      <th>MODAL</th>\n",
              "      <th>TEMP_BEFORE</th>\n",
              "      <th>TEMP_AFTER</th>\n",
              "      <th>TEMP_SINCE</th>\n",
              "      <th>SYN</th>\n",
              "      <th>DERIVATION</th>\n",
              "      <th>RELATION</th>\n",
              "      <th>y</th>\n",
              "    </tr>\n",
              "  </thead>\n",
              "  <tbody>\n",
              "    <tr>\n",
              "      <th>0</th>\n",
              "      <td>VBD</td>\n",
              "      <td>VBG</td>\n",
              "      <td>NNP</td>\n",
              "      <td>PRP</td>\n",
              "      <td>VBD</td>\n",
              "      <td>NNS</td>\n",
              "      <td>3</td>\n",
              "      <td>0</td>\n",
              "      <td>0.0</td>\n",
              "      <td>0.0</td>\n",
              "      <td>0.0</td>\n",
              "      <td>0</td>\n",
              "      <td>0</td>\n",
              "      <td>after</td>\n",
              "      <td>1</td>\n",
              "    </tr>\n",
              "    <tr>\n",
              "      <th>3</th>\n",
              "      <td>VBZ</td>\n",
              "      <td>VBN</td>\n",
              "      <td>EX</td>\n",
              "      <td>DT</td>\n",
              "      <td>RB</td>\n",
              "      <td>RBR</td>\n",
              "      <td>42</td>\n",
              "      <td>0</td>\n",
              "      <td>0.0</td>\n",
              "      <td>0.0</td>\n",
              "      <td>0.0</td>\n",
              "      <td>1</td>\n",
              "      <td>0</td>\n",
              "      <td>after</td>\n",
              "      <td>1</td>\n",
              "    </tr>\n",
              "    <tr>\n",
              "      <th>4</th>\n",
              "      <td>VBZ</td>\n",
              "      <td>VBP</td>\n",
              "      <td>EX</td>\n",
              "      <td>DT</td>\n",
              "      <td>PRP</td>\n",
              "      <td>JJR</td>\n",
              "      <td>47</td>\n",
              "      <td>0</td>\n",
              "      <td>0.0</td>\n",
              "      <td>0.0</td>\n",
              "      <td>0.0</td>\n",
              "      <td>0</td>\n",
              "      <td>0</td>\n",
              "      <td>after</td>\n",
              "      <td>1</td>\n",
              "    </tr>\n",
              "    <tr>\n",
              "      <th>5</th>\n",
              "      <td>VBZ</td>\n",
              "      <td>VBZ</td>\n",
              "      <td>EX</td>\n",
              "      <td>DT</td>\n",
              "      <td>WDT</td>\n",
              "      <td>RBR</td>\n",
              "      <td>61</td>\n",
              "      <td>0</td>\n",
              "      <td>0.0</td>\n",
              "      <td>0.0</td>\n",
              "      <td>0.0</td>\n",
              "      <td>1</td>\n",
              "      <td>1</td>\n",
              "      <td>simultaneous</td>\n",
              "      <td>2</td>\n",
              "    </tr>\n",
              "    <tr>\n",
              "      <th>8</th>\n",
              "      <td>VBD</td>\n",
              "      <td>VBN</td>\n",
              "      <td>NNP</td>\n",
              "      <td>PRP</td>\n",
              "      <td>JJ</td>\n",
              "      <td>DT</td>\n",
              "      <td>49</td>\n",
              "      <td>0</td>\n",
              "      <td>0.0</td>\n",
              "      <td>0.0</td>\n",
              "      <td>0.0</td>\n",
              "      <td>1</td>\n",
              "      <td>0</td>\n",
              "      <td>after</td>\n",
              "      <td>1</td>\n",
              "    </tr>\n",
              "  </tbody>\n",
              "</table>\n",
              "</div>"
            ],
            "text/plain": [
              "  POS1 POS2 BEFORE_1 AFTER_1  ... SYN DERIVATION      RELATION  y\n",
              "0  VBD  VBG      NNP     PRP  ...   0          0         after  1\n",
              "3  VBZ  VBN       EX      DT  ...   1          0         after  1\n",
              "4  VBZ  VBP       EX      DT  ...   0          0         after  1\n",
              "5  VBZ  VBZ       EX      DT  ...   1          1  simultaneous  2\n",
              "8  VBD  VBN      NNP     PRP  ...   1          0         after  1\n",
              "\n",
              "[5 rows x 15 columns]"
            ]
          },
          "metadata": {
            "tags": []
          },
          "execution_count": 37
        }
      ]
    },
    {
      "cell_type": "code",
      "metadata": {
        "id": "ccl49zOivfyo",
        "colab_type": "code",
        "outputId": "dfd9b4ea-6ad3-4fa3-a7ce-6abdcfb281ee",
        "colab": {
          "base_uri": "https://localhost:8080/",
          "height": 74
        }
      },
      "source": [
        "print(list(df.columns) )"
      ],
      "execution_count": 0,
      "outputs": [
        {
          "output_type": "stream",
          "text": [
            "['POS1', 'POS2', 'BEFORE_1', 'AFTER_1', 'BEFORE_2', 'AFTER_2', 'DISTANCE', 'MODAL', 'TEMP_BEFORE', 'TEMP_AFTER', 'TEMP_SINCE', 'SYN', 'DERIVATION', 'RELATION', 'y']\n"
          ],
          "name": "stdout"
        }
      ]
    },
    {
      "cell_type": "code",
      "metadata": {
        "id": "D63fziXNujgl",
        "colab_type": "code",
        "colab": {}
      },
      "source": [
        "y_data = df['y']\n",
        "x_data = df[['POS1', 'POS2', 'BEFORE_1', 'AFTER_1', 'BEFORE_2', 'AFTER_2', 'DISTANCE', 'MODAL', 'TEMP_BEFORE', 'TEMP_AFTER', 'TEMP_SINCE', 'SYN', 'DERIVATION']]"
      ],
      "execution_count": 0,
      "outputs": []
    },
    {
      "cell_type": "code",
      "metadata": {
        "id": "LMyMRCFFaWXt",
        "colab_type": "code",
        "colab": {}
      },
      "source": [
        "X_train, X_test, y_train, y_test = train_test_split(x_data, y_data, train_size=0.8, random_state=0)"
      ],
      "execution_count": 0,
      "outputs": []
    },
    {
      "cell_type": "code",
      "metadata": {
        "id": "OzoCV-KckqwD",
        "colab_type": "code",
        "outputId": "1168c7b2-6fdb-4771-aafb-c6c7b9a29c75",
        "colab": {
          "base_uri": "https://localhost:8080/",
          "height": 51
        }
      },
      "source": [
        "from collections import Counter\n",
        "print('dataset shape {}'.format(Counter(y_data)))\n",
        "print('dataset shape {}'.format(Counter(y_train)))"
      ],
      "execution_count": 40,
      "outputs": [
        {
          "output_type": "stream",
          "text": [
            "dataset shape Counter({0: 202, 1: 108, 2: 42})\n",
            "dataset shape Counter({0: 163, 1: 84, 2: 34})\n"
          ],
          "name": "stdout"
        }
      ]
    },
    {
      "cell_type": "markdown",
      "metadata": {
        "id": "bmnZdHP3t0sx",
        "colab_type": "text"
      },
      "source": [
        "# Naíve Bayes"
      ]
    },
    {
      "cell_type": "code",
      "metadata": {
        "id": "aRScwRmlaXBV",
        "colab_type": "code",
        "colab": {}
      },
      "source": [
        "pipeline = Pipeline([    \n",
        "    ('vec', OneHotEncoder(handle_unknown='ignore')),\n",
        "    ('clf', BernoulliNB()),\n",
        "])\n",
        "\n",
        "pipeline.fit(X_train, y_train)\n",
        "y_pred = pipeline.predict(X_test)"
      ],
      "execution_count": 0,
      "outputs": []
    },
    {
      "cell_type": "code",
      "metadata": {
        "id": "7SBw2XyGaXK7",
        "colab_type": "code",
        "outputId": "3d08bb00-0e66-4f0a-fe2f-0ed132d68b55",
        "colab": {
          "base_uri": "https://localhost:8080/",
          "height": 306
        }
      },
      "source": [
        "\n",
        "def test_model(X_test,y_test, model):\n",
        "    y_pred = model.predict(X_test)\n",
        "    accuracy = accuracy_score(y_pred, y_test)\n",
        "    report = classification_report(y_pred, y_test)\n",
        "    matrix = pd.DataFrame(confusion_matrix(y_test, y_pred),\n",
        "                columns=['p_BEFORE', 'p_AFTER','p_SIMU'], index=['BEFORE', 'AFTER','SIMU'])\n",
        "    return accuracy, report, matrix\n",
        "\n",
        "accuracy, report, matrix = test_model(X_test, y_test, pipeline)\n",
        "print(\"the accuracy of the model is {accuracy:.{digits}f}\".format(accuracy=accuracy, digits=2))\n",
        "print()\n",
        "print(report)\n",
        "print()\n",
        "print(matrix)"
      ],
      "execution_count": 49,
      "outputs": [
        {
          "output_type": "stream",
          "text": [
            "the accuracy of the model is 0.68\n",
            "\n",
            "              precision    recall  f1-score   support\n",
            "\n",
            "           0       0.74      0.72      0.73        40\n",
            "           1       0.71      0.63      0.67        27\n",
            "           2       0.25      0.50      0.33         4\n",
            "\n",
            "    accuracy                           0.68        71\n",
            "   macro avg       0.57      0.62      0.58        71\n",
            "weighted avg       0.70      0.68      0.69        71\n",
            "\n",
            "\n",
            "        p_BEFORE  p_AFTER  p_SIMU\n",
            "BEFORE        29        8       2\n",
            "AFTER          7       17       0\n",
            "SIMU           4        2       2\n"
          ],
          "name": "stdout"
        }
      ]
    },
    {
      "cell_type": "markdown",
      "metadata": {
        "id": "Q60M7yunw6v8",
        "colab_type": "text"
      },
      "source": [
        "# Logistic Regression"
      ]
    },
    {
      "cell_type": "code",
      "metadata": {
        "id": "X9CLXAw4aXIG",
        "colab_type": "code",
        "colab": {}
      },
      "source": [
        "pipeline = Pipeline([    \n",
        "    ('vec', OneHotEncoder(handle_unknown='ignore')) ,\n",
        "\n",
        "  ('clf', LogisticRegression(\n",
        "      solver='newton-cg',  \n",
        "      multi_class='multinomial', \n",
        "      )),\n",
        "])\n",
        "\n",
        "\n",
        "pipeline.fit(X_train, y_train)\n",
        "y_pred = pipeline.predict(X_test)"
      ],
      "execution_count": 0,
      "outputs": []
    },
    {
      "cell_type": "code",
      "metadata": {
        "id": "xqZRXtA7aWzb",
        "colab_type": "code",
        "outputId": "deb9321c-15fb-44da-c8b9-c545ae9c1df1",
        "colab": {
          "base_uri": "https://localhost:8080/",
          "height": 306
        }
      },
      "source": [
        "\n",
        "def test_model(X_test,y_test, model):\n",
        "    y_pred = model.predict(X_test)\n",
        "    accuracy = accuracy_score(y_pred, y_test)\n",
        "    report = classification_report(y_pred, y_test)\n",
        "    matrix = pd.DataFrame(confusion_matrix(y_test, y_pred),\n",
        "                columns=['p_BEFORE', 'p_AFTER','p_SIMU'], index=[ 'BEFORE', 'AFTER','SIMU'])\n",
        "    return accuracy, report, matrix\n",
        "\n",
        "accuracy, report, matrix = test_model(X_test, y_test, pipeline)\n",
        "print(\"the accuracy of the model is {accuracy:.{digits}f}\".format(accuracy=accuracy, digits=2))\n",
        "print()\n",
        "print(report)\n",
        "print()\n",
        "print(matrix)"
      ],
      "execution_count": 51,
      "outputs": [
        {
          "output_type": "stream",
          "text": [
            "the accuracy of the model is 0.69\n",
            "\n",
            "              precision    recall  f1-score   support\n",
            "\n",
            "           0       0.79      0.76      0.77        41\n",
            "           1       0.67      0.67      0.67        24\n",
            "           2       0.25      0.33      0.29         6\n",
            "\n",
            "    accuracy                           0.69        71\n",
            "   macro avg       0.57      0.59      0.58        71\n",
            "weighted avg       0.71      0.69      0.70        71\n",
            "\n",
            "\n",
            "        p_BEFORE  p_AFTER  p_SIMU\n",
            "BEFORE        31        5       3\n",
            "AFTER          7       16       1\n",
            "SIMU           3        3       2\n"
          ],
          "name": "stdout"
        }
      ]
    },
    {
      "cell_type": "markdown",
      "metadata": {
        "id": "-3ISEZ21xoJX",
        "colab_type": "text"
      },
      "source": [
        "# Random Forest"
      ]
    },
    {
      "cell_type": "code",
      "metadata": {
        "id": "jPhtfn9CaWyJ",
        "colab_type": "code",
        "colab": {}
      },
      "source": [
        "pipeline = Pipeline([    \n",
        "    ('vec', OneHotEncoder(handle_unknown='ignore')) ,\n",
        "  ('clf', RandomForestClassifier(n_estimators = 100,\n",
        "                        min_samples_split = 2,\n",
        "                        max_depth = 202,))\n",
        "])\n",
        "\n",
        "\n",
        "pipeline.fit(X_train, y_train)\n",
        "y_pred = pipeline.predict(X_test)"
      ],
      "execution_count": 0,
      "outputs": []
    },
    {
      "cell_type": "code",
      "metadata": {
        "id": "MgYGAQ-IaWvC",
        "colab_type": "code",
        "outputId": "1bb3813e-fd11-4f9a-ed8c-b88ac5373629",
        "colab": {
          "base_uri": "https://localhost:8080/",
          "height": 306
        }
      },
      "source": [
        "\n",
        "def test_model(X_test,y_test, model):\n",
        "    y_pred = model.predict(X_test)\n",
        "    accuracy = accuracy_score(y_pred, y_test)\n",
        "    report = classification_report(y_pred, y_test)\n",
        "    matrix = pd.DataFrame(confusion_matrix(y_test, y_pred),\n",
        "                columns=[ 'p_BEFORE', 'p_AFTER','p_SIMU'], index=['BEFORE', 'AFTER','SIMU'])\n",
        "    return accuracy, report, matrix\n",
        "\n",
        "accuracy, report, matrix = test_model(X_test, y_test, pipeline)\n",
        "print(\"the accuracy of the model is {accuracy:.{digits}f}\".format(accuracy=accuracy, digits=2))\n",
        "print()\n",
        "print(report)\n",
        "print()\n",
        "print(matrix)"
      ],
      "execution_count": 65,
      "outputs": [
        {
          "output_type": "stream",
          "text": [
            "the accuracy of the model is 0.68\n",
            "\n",
            "              precision    recall  f1-score   support\n",
            "\n",
            "           0       0.87      0.67      0.76        51\n",
            "           1       0.54      0.68      0.60        19\n",
            "           2       0.12      1.00      0.22         1\n",
            "\n",
            "    accuracy                           0.68        71\n",
            "   macro avg       0.51      0.78      0.53        71\n",
            "weighted avg       0.77      0.68      0.71        71\n",
            "\n",
            "\n",
            "        p_BEFORE  p_AFTER  p_SIMU\n",
            "BEFORE        34        5       0\n",
            "AFTER         11       13       0\n",
            "SIMU           6        1       1\n"
          ],
          "name": "stdout"
        }
      ]
    },
    {
      "cell_type": "code",
      "metadata": {
        "id": "jC1_r8qX0hLH",
        "colab_type": "code",
        "colab": {}
      },
      "source": [
        ""
      ],
      "execution_count": 0,
      "outputs": []
    },
    {
      "cell_type": "markdown",
      "metadata": {
        "id": "WK_iReiErLwU",
        "colab_type": "text"
      },
      "source": [
        "## GradientBoosting"
      ]
    },
    {
      "cell_type": "code",
      "metadata": {
        "id": "NM2qpVOOaWny",
        "colab_type": "code",
        "colab": {}
      },
      "source": [
        "from sklearn.ensemble import GradientBoostingClassifier"
      ],
      "execution_count": 0,
      "outputs": []
    },
    {
      "cell_type": "code",
      "metadata": {
        "id": "3x2M7NJoaWap",
        "colab_type": "code",
        "outputId": "53bd72fe-c4fc-4b7e-d29a-007bec23d73b",
        "colab": {
          "base_uri": "https://localhost:8080/",
          "height": 323
        }
      },
      "source": [
        "pipeline = Pipeline([    \n",
        "  ('vec', OneHotEncoder(handle_unknown='ignore')) ,\n",
        "  ('clf', GradientBoostingClassifier())\n",
        "])\n",
        "\n",
        "from collections import Counter\n",
        "print('dataset shape {}'.format(Counter(y_train)))\n",
        "pipeline.fit(X_train, y_train)\n",
        "y_pred = pipeline.predict(X_test)\n",
        "\n",
        "def test_model(X_test,y_test, model):\n",
        "    y_pred = model.predict(X_test)\n",
        "    accuracy = accuracy_score(y_pred, y_test)\n",
        "    report = classification_report(y_pred, y_test)\n",
        "    matrix = pd.DataFrame(confusion_matrix(y_test, y_pred),\n",
        "                columns=[ 'p_BEFORE', 'p_AFTER','p_SIMU'], index=['BEFORE', 'AFTER','SIMU'])\n",
        "    return accuracy, report, matrix\n",
        "\n",
        "accuracy, report, matrix = test_model(X_test, y_test, pipeline)\n",
        "print(\"the accuracy of the model is {accuracy:.{digits}f}\".format(accuracy=accuracy, digits=2))\n",
        "print()\n",
        "print(report)\n",
        "print()\n",
        "print(matrix)"
      ],
      "execution_count": 57,
      "outputs": [
        {
          "output_type": "stream",
          "text": [
            "dataset shape Counter({0: 163, 1: 84, 2: 34})\n",
            "the accuracy of the model is 0.70\n",
            "\n",
            "              precision    recall  f1-score   support\n",
            "\n",
            "           0       0.82      0.74      0.78        43\n",
            "           1       0.67      0.67      0.67        24\n",
            "           2       0.25      0.50      0.33         4\n",
            "\n",
            "    accuracy                           0.70        71\n",
            "   macro avg       0.58      0.64      0.59        71\n",
            "weighted avg       0.74      0.70      0.72        71\n",
            "\n",
            "\n",
            "        p_BEFORE  p_AFTER  p_SIMU\n",
            "BEFORE        32        6       1\n",
            "AFTER          7       16       1\n",
            "SIMU           4        2       2\n"
          ],
          "name": "stdout"
        }
      ]
    },
    {
      "cell_type": "code",
      "metadata": {
        "id": "ShW-sQlTqF0-",
        "colab_type": "code",
        "colab": {}
      },
      "source": [
        ""
      ],
      "execution_count": 0,
      "outputs": []
    }
  ]
}
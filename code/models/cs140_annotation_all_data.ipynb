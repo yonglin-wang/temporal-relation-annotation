{
  "nbformat": 4,
  "nbformat_minor": 0,
  "metadata": {
    "colab": {
      "name": "cs140-annotation_all_data.ipynb",
      "provenance": [],
      "collapsed_sections": []
    },
    "kernelspec": {
      "name": "python3",
      "display_name": "Python 3"
    }
  },
  "cells": [
    {
      "cell_type": "markdown",
      "metadata": {
        "id": "ubXjuh3GO8ry",
        "colab_type": "text"
      },
      "source": [
        "## CS140 - Group B\n"
      ]
    },
    {
      "cell_type": "code",
      "metadata": {
        "id": "HEc4Ca3OauPQ",
        "colab_type": "code",
        "colab": {}
      },
      "source": [
        "import pandas as pd\n",
        "from sklearn.preprocessing import LabelEncoder,OneHotEncoder\n",
        "from sklearn.base import TransformerMixin\n",
        "from sklearn.linear_model import LogisticRegression\n",
        "from sklearn.pipeline import FeatureUnion, Pipeline\n",
        "from sklearn.naive_bayes import BernoulliNB\n",
        "from sklearn.model_selection import train_test_split\n",
        "from sklearn.metrics import accuracy_score, confusion_matrix, classification_report \n",
        "from sklearn.ensemble import RandomForestClassifier"
      ],
      "execution_count": 0,
      "outputs": []
    },
    {
      "cell_type": "code",
      "metadata": {
        "id": "NJmdDHxmcIP2",
        "colab_type": "code",
        "colab": {}
      },
      "source": [
        "TAGS = ['CC', 'CD', 'DT', 'EX', 'FW', 'IN', 'JJ', 'JJR', 'JJS', 'LS', 'MD', 'NN', 'NNS', 'NNP', 'NNPS', 'PDT', 'POS', 'PRP', 'PRP$', 'RB', 'RBR', 'RBS', 'RP', 'TO', 'UH', 'VB', 'VBD', 'VBG', 'VBN', 'VBP', 'VBZ', 'WDT', 'WP', 'WP$', 'WRB']\n",
        "MODALS = ['will', 'would', 'can', 'could', 'may', 'might']\n",
        "TEMPS = ['before', 'after', 'since']"
      ],
      "execution_count": 0,
      "outputs": []
    },
    {
      "cell_type": "code",
      "metadata": {
        "id": "ejtDkZ6IaWPk",
        "colab_type": "code",
        "colab": {}
      },
      "source": [
        "df = pd.read_csv('https://raw.githubusercontent.com/YonglinWang-Brandeis/cs140-groupB-annotation-files/master/code/features_combine.csv')"
      ],
      "execution_count": 0,
      "outputs": []
    },
    {
      "cell_type": "code",
      "metadata": {
        "id": "aAsUct5GaWUh",
        "colab_type": "code",
        "outputId": "fbc518f8-37e0-4258-9d7a-a38ba46b6c9b",
        "colab": {
          "base_uri": "https://localhost:8080/",
          "height": 244
        }
      },
      "source": [
        "df.head()\n"
      ],
      "execution_count": 56,
      "outputs": [
        {
          "output_type": "execute_result",
          "data": {
            "text/html": [
              "<div>\n",
              "<style scoped>\n",
              "    .dataframe tbody tr th:only-of-type {\n",
              "        vertical-align: middle;\n",
              "    }\n",
              "\n",
              "    .dataframe tbody tr th {\n",
              "        vertical-align: top;\n",
              "    }\n",
              "\n",
              "    .dataframe thead th {\n",
              "        text-align: right;\n",
              "    }\n",
              "</style>\n",
              "<table border=\"1\" class=\"dataframe\">\n",
              "  <thead>\n",
              "    <tr style=\"text-align: right;\">\n",
              "      <th></th>\n",
              "      <th>POS1</th>\n",
              "      <th>POS2</th>\n",
              "      <th>BEFORE_1</th>\n",
              "      <th>AFTER_1</th>\n",
              "      <th>BEFORE_2</th>\n",
              "      <th>AFTER_2</th>\n",
              "      <th>DISTANCE</th>\n",
              "      <th>MODAL</th>\n",
              "      <th>TEMP_BEFORE</th>\n",
              "      <th>TEMP_AFTER</th>\n",
              "      <th>TEMP_SINCE</th>\n",
              "      <th>SYN</th>\n",
              "      <th>DERIVATION</th>\n",
              "      <th>RELATION</th>\n",
              "    </tr>\n",
              "  </thead>\n",
              "  <tbody>\n",
              "    <tr>\n",
              "      <th>0</th>\n",
              "      <td>VBD</td>\n",
              "      <td>VBG</td>\n",
              "      <td>NNP</td>\n",
              "      <td>PRP</td>\n",
              "      <td>VBD</td>\n",
              "      <td>NNS</td>\n",
              "      <td>3</td>\n",
              "      <td>0</td>\n",
              "      <td>0.0</td>\n",
              "      <td>0.0</td>\n",
              "      <td>0.0</td>\n",
              "      <td>0</td>\n",
              "      <td>0</td>\n",
              "      <td>after</td>\n",
              "    </tr>\n",
              "    <tr>\n",
              "      <th>1</th>\n",
              "      <td>VBD</td>\n",
              "      <td>VB</td>\n",
              "      <td>NNP</td>\n",
              "      <td>PRP</td>\n",
              "      <td>MD</td>\n",
              "      <td>IN</td>\n",
              "      <td>12</td>\n",
              "      <td>1</td>\n",
              "      <td>0.0</td>\n",
              "      <td>0.0</td>\n",
              "      <td>0.0</td>\n",
              "      <td>0</td>\n",
              "      <td>0</td>\n",
              "      <td>after</td>\n",
              "    </tr>\n",
              "    <tr>\n",
              "      <th>2</th>\n",
              "      <td>VBG</td>\n",
              "      <td>VB</td>\n",
              "      <td>VBD</td>\n",
              "      <td>NNS</td>\n",
              "      <td>MD</td>\n",
              "      <td>IN</td>\n",
              "      <td>9</td>\n",
              "      <td>1</td>\n",
              "      <td>0.0</td>\n",
              "      <td>0.0</td>\n",
              "      <td>0.0</td>\n",
              "      <td>0</td>\n",
              "      <td>0</td>\n",
              "      <td>after</td>\n",
              "    </tr>\n",
              "    <tr>\n",
              "      <th>3</th>\n",
              "      <td>VBZ</td>\n",
              "      <td>VBD</td>\n",
              "      <td>EX</td>\n",
              "      <td>DT</td>\n",
              "      <td>NNP</td>\n",
              "      <td>PRP</td>\n",
              "      <td>6</td>\n",
              "      <td>0</td>\n",
              "      <td>0.0</td>\n",
              "      <td>0.0</td>\n",
              "      <td>0.0</td>\n",
              "      <td>0</td>\n",
              "      <td>0</td>\n",
              "      <td>vague</td>\n",
              "    </tr>\n",
              "    <tr>\n",
              "      <th>4</th>\n",
              "      <td>VBZ</td>\n",
              "      <td>VBD</td>\n",
              "      <td>EX</td>\n",
              "      <td>DT</td>\n",
              "      <td>NNS</td>\n",
              "      <td>NNP</td>\n",
              "      <td>16</td>\n",
              "      <td>0</td>\n",
              "      <td>0.0</td>\n",
              "      <td>0.0</td>\n",
              "      <td>0.0</td>\n",
              "      <td>0</td>\n",
              "      <td>0</td>\n",
              "      <td>vague</td>\n",
              "    </tr>\n",
              "  </tbody>\n",
              "</table>\n",
              "</div>"
            ],
            "text/plain": [
              "  POS1 POS2 BEFORE_1 AFTER_1  ... TEMP_SINCE SYN  DERIVATION  RELATION\n",
              "0  VBD  VBG      NNP     PRP  ...        0.0   0           0     after\n",
              "1  VBD   VB      NNP     PRP  ...        0.0   0           0     after\n",
              "2  VBG   VB      VBD     NNS  ...        0.0   0           0     after\n",
              "3  VBZ  VBD       EX      DT  ...        0.0   0           0     vague\n",
              "4  VBZ  VBD       EX      DT  ...        0.0   0           0     vague\n",
              "\n",
              "[5 rows x 14 columns]"
            ]
          },
          "metadata": {
            "tags": []
          },
          "execution_count": 56
        }
      ]
    },
    {
      "cell_type": "code",
      "metadata": {
        "id": "LWJFhYnsfgWH",
        "colab_type": "code",
        "outputId": "1f7be935-4bd9-4ba2-b887-34c21211759b",
        "colab": {
          "base_uri": "https://localhost:8080/",
          "height": 34
        }
      },
      "source": [
        "df.shape"
      ],
      "execution_count": 67,
      "outputs": [
        {
          "output_type": "execute_result",
          "data": {
            "text/plain": [
              "(4467, 15)"
            ]
          },
          "metadata": {
            "tags": []
          },
          "execution_count": 67
        }
      ]
    },
    {
      "cell_type": "code",
      "metadata": {
        "id": "uo-zBf07k0i4",
        "colab_type": "code",
        "colab": {}
      },
      "source": [
        "def encode_labels(label):\n",
        "    if label == 'vague':\n",
        "        return 0\n",
        "    elif label == 'before':\n",
        "        return 1\n",
        "    elif label == 'after':\n",
        "        return 2\n",
        "    else:\n",
        "        return 3"
      ],
      "execution_count": 0,
      "outputs": []
    },
    {
      "cell_type": "code",
      "metadata": {
        "id": "lyxD7Tjsk52i",
        "colab_type": "code",
        "colab": {}
      },
      "source": [
        "df_copy = df.copy()\n",
        "df['y'] = df_copy.RELATION.apply(encode_labels)"
      ],
      "execution_count": 0,
      "outputs": []
    },
    {
      "cell_type": "code",
      "metadata": {
        "id": "j-BuIHm6lcnp",
        "colab_type": "code",
        "outputId": "cc28434a-4a65-4f0d-be98-83e79761623d",
        "colab": {
          "base_uri": "https://localhost:8080/",
          "height": 244
        }
      },
      "source": [
        "df.head()"
      ],
      "execution_count": 70,
      "outputs": [
        {
          "output_type": "execute_result",
          "data": {
            "text/html": [
              "<div>\n",
              "<style scoped>\n",
              "    .dataframe tbody tr th:only-of-type {\n",
              "        vertical-align: middle;\n",
              "    }\n",
              "\n",
              "    .dataframe tbody tr th {\n",
              "        vertical-align: top;\n",
              "    }\n",
              "\n",
              "    .dataframe thead th {\n",
              "        text-align: right;\n",
              "    }\n",
              "</style>\n",
              "<table border=\"1\" class=\"dataframe\">\n",
              "  <thead>\n",
              "    <tr style=\"text-align: right;\">\n",
              "      <th></th>\n",
              "      <th>POS1</th>\n",
              "      <th>POS2</th>\n",
              "      <th>BEFORE_1</th>\n",
              "      <th>AFTER_1</th>\n",
              "      <th>BEFORE_2</th>\n",
              "      <th>AFTER_2</th>\n",
              "      <th>DISTANCE</th>\n",
              "      <th>MODAL</th>\n",
              "      <th>TEMP_BEFORE</th>\n",
              "      <th>TEMP_AFTER</th>\n",
              "      <th>TEMP_SINCE</th>\n",
              "      <th>SYN</th>\n",
              "      <th>DERIVATION</th>\n",
              "      <th>RELATION</th>\n",
              "      <th>y</th>\n",
              "    </tr>\n",
              "  </thead>\n",
              "  <tbody>\n",
              "    <tr>\n",
              "      <th>0</th>\n",
              "      <td>VBD</td>\n",
              "      <td>VBG</td>\n",
              "      <td>NNP</td>\n",
              "      <td>PRP</td>\n",
              "      <td>VBD</td>\n",
              "      <td>NNS</td>\n",
              "      <td>3</td>\n",
              "      <td>0</td>\n",
              "      <td>0.0</td>\n",
              "      <td>0.0</td>\n",
              "      <td>0.0</td>\n",
              "      <td>0</td>\n",
              "      <td>0</td>\n",
              "      <td>after</td>\n",
              "      <td>2</td>\n",
              "    </tr>\n",
              "    <tr>\n",
              "      <th>1</th>\n",
              "      <td>VBD</td>\n",
              "      <td>VB</td>\n",
              "      <td>NNP</td>\n",
              "      <td>PRP</td>\n",
              "      <td>MD</td>\n",
              "      <td>IN</td>\n",
              "      <td>12</td>\n",
              "      <td>1</td>\n",
              "      <td>0.0</td>\n",
              "      <td>0.0</td>\n",
              "      <td>0.0</td>\n",
              "      <td>0</td>\n",
              "      <td>0</td>\n",
              "      <td>after</td>\n",
              "      <td>2</td>\n",
              "    </tr>\n",
              "    <tr>\n",
              "      <th>2</th>\n",
              "      <td>VBG</td>\n",
              "      <td>VB</td>\n",
              "      <td>VBD</td>\n",
              "      <td>NNS</td>\n",
              "      <td>MD</td>\n",
              "      <td>IN</td>\n",
              "      <td>9</td>\n",
              "      <td>1</td>\n",
              "      <td>0.0</td>\n",
              "      <td>0.0</td>\n",
              "      <td>0.0</td>\n",
              "      <td>0</td>\n",
              "      <td>0</td>\n",
              "      <td>after</td>\n",
              "      <td>2</td>\n",
              "    </tr>\n",
              "    <tr>\n",
              "      <th>3</th>\n",
              "      <td>VBZ</td>\n",
              "      <td>VBD</td>\n",
              "      <td>EX</td>\n",
              "      <td>DT</td>\n",
              "      <td>NNP</td>\n",
              "      <td>PRP</td>\n",
              "      <td>6</td>\n",
              "      <td>0</td>\n",
              "      <td>0.0</td>\n",
              "      <td>0.0</td>\n",
              "      <td>0.0</td>\n",
              "      <td>0</td>\n",
              "      <td>0</td>\n",
              "      <td>vague</td>\n",
              "      <td>0</td>\n",
              "    </tr>\n",
              "    <tr>\n",
              "      <th>4</th>\n",
              "      <td>VBZ</td>\n",
              "      <td>VBD</td>\n",
              "      <td>EX</td>\n",
              "      <td>DT</td>\n",
              "      <td>NNS</td>\n",
              "      <td>NNP</td>\n",
              "      <td>16</td>\n",
              "      <td>0</td>\n",
              "      <td>0.0</td>\n",
              "      <td>0.0</td>\n",
              "      <td>0.0</td>\n",
              "      <td>0</td>\n",
              "      <td>0</td>\n",
              "      <td>vague</td>\n",
              "      <td>0</td>\n",
              "    </tr>\n",
              "  </tbody>\n",
              "</table>\n",
              "</div>"
            ],
            "text/plain": [
              "  POS1 POS2 BEFORE_1 AFTER_1 BEFORE_2  ... TEMP_SINCE  SYN  DERIVATION  RELATION  y\n",
              "0  VBD  VBG      NNP     PRP      VBD  ...        0.0    0           0     after  2\n",
              "1  VBD   VB      NNP     PRP       MD  ...        0.0    0           0     after  2\n",
              "2  VBG   VB      VBD     NNS       MD  ...        0.0    0           0     after  2\n",
              "3  VBZ  VBD       EX      DT      NNP  ...        0.0    0           0     vague  0\n",
              "4  VBZ  VBD       EX      DT      NNS  ...        0.0    0           0     vague  0\n",
              "\n",
              "[5 rows x 15 columns]"
            ]
          },
          "metadata": {
            "tags": []
          },
          "execution_count": 70
        }
      ]
    },
    {
      "cell_type": "code",
      "metadata": {
        "id": "ccl49zOivfyo",
        "colab_type": "code",
        "outputId": "e43a8c08-79af-48ee-f37b-593f030d8b60",
        "colab": {
          "base_uri": "https://localhost:8080/",
          "height": 94
        }
      },
      "source": [
        "print(list(df.columns) )"
      ],
      "execution_count": 71,
      "outputs": [
        {
          "output_type": "stream",
          "text": [
            "['POS1', 'POS2', 'BEFORE_1', 'AFTER_1', 'BEFORE_2', 'AFTER_2', 'DISTANCE', 'MODAL', 'TEMP_BEFORE', 'TEMP_AFTER', 'TEMP_SINCE', 'SYN', 'DERIVATION', 'RELATION', 'y']\n"
          ],
          "name": "stdout"
        }
      ]
    },
    {
      "cell_type": "code",
      "metadata": {
        "id": "D63fziXNujgl",
        "colab_type": "code",
        "colab": {}
      },
      "source": [
        "y_data = df['y']\n",
        "# x_data = df[['POS1', 'POS2', 'BEFORE_1', 'AFTER_1', 'BEFORE_2', 'AFTER_2', 'DISTANCE', 'MODAL', 'TEMP_BEFORE', 'TEMP_AFTER', 'TEMP_SINCE', 'SYN', 'DERIVATION']]\n",
        "x_data = df[[ 'DISTANCE', 'MODAL', 'TEMP_BEFORE', 'TEMP_AFTER', 'TEMP_SINCE', 'SYN', 'DERIVATION']]"
      ],
      "execution_count": 0,
      "outputs": []
    },
    {
      "cell_type": "code",
      "metadata": {
        "id": "LMyMRCFFaWXt",
        "colab_type": "code",
        "colab": {}
      },
      "source": [
        "X_train, X_test, y_train, y_test = train_test_split(x_data, y_data, train_size=0.8, random_state=0)"
      ],
      "execution_count": 0,
      "outputs": []
    },
    {
      "cell_type": "code",
      "metadata": {
        "id": "B6HFR5DafpZj",
        "colab_type": "code",
        "colab": {
          "base_uri": "https://localhost:8080/",
          "height": 34
        },
        "outputId": "a93915c0-56c1-4c56-9065-33bf88b69e1d"
      },
      "source": [
        "from collections import Counter\n",
        "print('dataset shape {}'.format(Counter(y_train)))"
      ],
      "execution_count": 74,
      "outputs": [
        {
          "output_type": "stream",
          "text": [
            "dataset shape Counter({0: 1797, 1: 906, 3: 438, 2: 432})\n"
          ],
          "name": "stdout"
        }
      ]
    },
    {
      "cell_type": "code",
      "metadata": {
        "id": "n4e5OL37kQue",
        "colab_type": "code",
        "colab": {
          "base_uri": "https://localhost:8080/",
          "height": 34
        },
        "outputId": "f9becea0-f635-4352-bde8-16bd3e01f0b2"
      },
      "source": [
        "print('dataset shape {}'.format(Counter(y_data)))"
      ],
      "execution_count": 99,
      "outputs": [
        {
          "output_type": "stream",
          "text": [
            "dataset shape Counter({0: 2238, 1: 1128, 2: 558, 3: 543})\n"
          ],
          "name": "stdout"
        }
      ]
    },
    {
      "cell_type": "code",
      "metadata": {
        "id": "IVWIf4fcZ9Xw",
        "colab_type": "code",
        "colab": {
          "base_uri": "https://localhost:8080/",
          "height": 191
        },
        "outputId": "f2cd33ef-595d-4084-a7f1-f397dee627eb"
      },
      "source": [
        "!pip install imbalanced-learn"
      ],
      "execution_count": 14,
      "outputs": [
        {
          "output_type": "stream",
          "text": [
            "Requirement already satisfied: imbalanced-learn in /usr/local/lib/python3.6/dist-packages (0.4.3)\n",
            "Requirement already satisfied: scikit-learn>=0.20 in /usr/local/lib/python3.6/dist-packages (from imbalanced-learn) (0.22.2.post1)\n",
            "Requirement already satisfied: numpy>=1.8.2 in /usr/local/lib/python3.6/dist-packages (from imbalanced-learn) (1.18.4)\n",
            "Requirement already satisfied: scipy>=0.13.3 in /usr/local/lib/python3.6/dist-packages (from imbalanced-learn) (1.4.1)\n",
            "Requirement already satisfied: joblib>=0.11 in /usr/local/lib/python3.6/dist-packages (from scikit-learn>=0.20->imbalanced-learn) (0.14.1)\n"
          ],
          "name": "stdout"
        }
      ]
    },
    {
      "cell_type": "code",
      "metadata": {
        "id": "TA6QmkuEa7WJ",
        "colab_type": "code",
        "colab": {
          "base_uri": "https://localhost:8080/",
          "height": 142
        },
        "outputId": "fb3fce8a-b5ff-4186-9765-455e1d7d25da"
      },
      "source": [
        "import imblearn\n",
        "print(imblearn.__version__)"
      ],
      "execution_count": 15,
      "outputs": [
        {
          "output_type": "stream",
          "text": [
            "0.4.3\n"
          ],
          "name": "stdout"
        },
        {
          "output_type": "stream",
          "text": [
            "/usr/local/lib/python3.6/dist-packages/sklearn/externals/six.py:31: FutureWarning: The module is deprecated in version 0.21 and will be removed in version 0.23 since we've dropped support for Python 2.7. Please rely on the official version of six (https://pypi.org/project/six/).\n",
            "  \"(https://pypi.org/project/six/).\", FutureWarning)\n",
            "/usr/local/lib/python3.6/dist-packages/sklearn/utils/deprecation.py:144: FutureWarning: The sklearn.neighbors.base module is  deprecated in version 0.22 and will be removed in version 0.24. The corresponding classes / functions should instead be imported from sklearn.neighbors. Anything that cannot be imported from sklearn.neighbors is now part of the private API.\n",
            "  warnings.warn(message, FutureWarning)\n"
          ],
          "name": "stderr"
        }
      ]
    },
    {
      "cell_type": "code",
      "metadata": {
        "id": "mXtuPwjWbA7p",
        "colab_type": "code",
        "colab": {}
      },
      "source": [
        "from imblearn.over_sampling import SMOTE\n",
        "from imblearn.pipeline import Pipeline\n",
        "from sklearn.model_selection import train_test_split as tts"
      ],
      "execution_count": 0,
      "outputs": []
    },
    {
      "cell_type": "code",
      "metadata": {
        "id": "1vtyz0UQesJS",
        "colab_type": "code",
        "colab": {
          "base_uri": "https://localhost:8080/",
          "height": 51
        },
        "outputId": "66452acd-c0d7-4986-a66b-f3d4be071ba4"
      },
      "source": [
        "\n",
        "from collections import Counter\n",
        "print('dataset shape {}'.format(Counter(y_data)))\n",
        "print('dataset shape {}'.format(Counter(y_train)))"
      ],
      "execution_count": 132,
      "outputs": [
        {
          "output_type": "stream",
          "text": [
            "dataset shape Counter({0: 2238, 1: 1128, 2: 558, 3: 543})\n",
            "dataset shape Counter({0: 1797, 1: 906, 3: 438, 2: 432})\n"
          ],
          "name": "stdout"
        }
      ]
    },
    {
      "cell_type": "markdown",
      "metadata": {
        "id": "bmnZdHP3t0sx",
        "colab_type": "text"
      },
      "source": [
        "# Naíve Bayes"
      ]
    },
    {
      "cell_type": "code",
      "metadata": {
        "id": "aRScwRmlaXBV",
        "colab_type": "code",
        "colab": {}
      },
      "source": [
        "pipeline = Pipeline([    \n",
        "    ('clf', BernoulliNB()),\n",
        "])\n",
        "\n",
        "pipeline.fit(X_train, y_train)\n",
        "y_pred = pipeline.predict(X_test)"
      ],
      "execution_count": 0,
      "outputs": []
    },
    {
      "cell_type": "code",
      "metadata": {
        "id": "7SBw2XyGaXK7",
        "colab_type": "code",
        "outputId": "00dc6a4a-dcb0-4b23-b4ca-fb5958ac5470",
        "colab": {
          "base_uri": "https://localhost:8080/",
          "height": 414
        }
      },
      "source": [
        "\n",
        "def test_model(X_test,y_test, model):\n",
        "    y_pred = model.predict(X_test)\n",
        "    accuracy = accuracy_score(y_pred, y_test)\n",
        "    report = classification_report(y_pred, y_test)\n",
        "    matrix = pd.DataFrame(confusion_matrix(y_test, y_pred),\n",
        "                columns=['p_VAGE', 'p_BEFORE', 'p_AFTER','p_SIMU'], index=['VAGUE', 'BEFORE', 'AFTER','SIMU'])\n",
        "    return accuracy, report, matrix\n",
        "\n",
        "accuracy, report, matrix = test_model(X_test, y_test, pipeline)\n",
        "print(\"the accuracy of the model is {accuracy:.{digits}f}\".format(accuracy=accuracy, digits=2))\n",
        "print()\n",
        "print(report)\n",
        "print()\n",
        "print(matrix)"
      ],
      "execution_count": 0,
      "outputs": [
        {
          "output_type": "stream",
          "text": [
            "the accuracy of the model is 0.50\n",
            "\n",
            "              precision    recall  f1-score   support\n",
            "\n",
            "           0       0.99      0.50      0.66       882\n",
            "           1       0.00      0.00      0.00         0\n",
            "           2       0.00      0.00      0.00         0\n",
            "           3       0.07      0.58      0.12        12\n",
            "\n",
            "    accuracy                           0.50       894\n",
            "   macro avg       0.26      0.27      0.20       894\n",
            "weighted avg       0.98      0.50      0.65       894\n",
            "\n",
            "\n",
            "        p_VAGE  p_BEFORE  p_AFTER  p_SIMU\n",
            "VAGUE      438         0        0       3\n",
            "BEFORE     220         0        0       2\n",
            "AFTER      126         0        0       0\n",
            "SIMU        98         0        0       7\n"
          ],
          "name": "stdout"
        },
        {
          "output_type": "stream",
          "text": [
            "/usr/local/lib/python3.6/dist-packages/sklearn/metrics/_classification.py:1272: UndefinedMetricWarning: Recall and F-score are ill-defined and being set to 0.0 in labels with no true samples. Use `zero_division` parameter to control this behavior.\n",
            "  _warn_prf(average, modifier, msg_start, len(result))\n"
          ],
          "name": "stderr"
        }
      ]
    },
    {
      "cell_type": "markdown",
      "metadata": {
        "id": "ku5kMU_Nqjvc",
        "colab_type": "text"
      },
      "source": [
        "SMOTE"
      ]
    },
    {
      "cell_type": "code",
      "metadata": {
        "id": "DzTqqjHAqofK",
        "colab_type": "code",
        "colab": {
          "base_uri": "https://localhost:8080/",
          "height": 499
        },
        "outputId": "da737f48-bced-4f18-f4c4-000e28fb9a1b"
      },
      "source": [
        "pipeline = Pipeline([    \n",
        "\n",
        "     ('clf', BernoulliNB()),\n",
        "])\n",
        "\n",
        "# smo = SMOTE(sampling_strategy={2:600, 3:600})\n",
        "smo = SMOTE()\n",
        "X_smo, y_smo = smo.fit_sample(X_train, y_train)\n",
        "\n",
        "from collections import Counter\n",
        "print('dataset shape {}'.format(Counter(y_smo)))\n",
        "pipeline.fit(X_smo, y_smo)\n",
        "y_pred = pipeline.predict(X_test)\n",
        "\n",
        "def test_model(X_test,y_test, model):\n",
        "    y_pred = model.predict(X_test)\n",
        "    accuracy = accuracy_score(y_pred, y_test)\n",
        "    report = classification_report(y_pred, y_test)\n",
        "    matrix = pd.DataFrame(confusion_matrix(y_test, y_pred),\n",
        "                columns=['p_VAGE', 'p_BEFORE', 'p_AFTER','p_SIMU'], index=['VAGUE', 'BEFORE', 'AFTER','SIMU'])\n",
        "    return accuracy, report, matrix\n",
        "\n",
        "accuracy, report, matrix = test_model(X_test, y_test, pipeline)\n",
        "print(\"the accuracy of the model is {accuracy:.{digits}f}\".format(accuracy=accuracy, digits=2))\n",
        "print()\n",
        "print(report)\n",
        "print()\n",
        "print(matrix)"
      ],
      "execution_count": 131,
      "outputs": [
        {
          "output_type": "stream",
          "text": [
            "dataset shape Counter({1: 1797, 0: 1797, 3: 1797, 2: 1797})\n",
            "the accuracy of the model is 0.26\n",
            "\n",
            "              precision    recall  f1-score   support\n",
            "\n",
            "           0       0.26      0.54      0.35       211\n",
            "           1       0.07      0.35      0.12        46\n",
            "           2       0.66      0.16      0.25       530\n",
            "           3       0.23      0.22      0.23       107\n",
            "\n",
            "    accuracy                           0.26       894\n",
            "   macro avg       0.30      0.32      0.24       894\n",
            "weighted avg       0.48      0.26      0.27       894\n",
            "\n",
            "\n",
            "        p_VAGE  p_BEFORE  p_AFTER  p_SIMU\n",
            "VAGUE      113        20      251      57\n",
            "BEFORE      57        16      132      17\n",
            "AFTER       25         9       83       9\n",
            "SIMU        16         1       64      24\n"
          ],
          "name": "stdout"
        },
        {
          "output_type": "stream",
          "text": [
            "/usr/local/lib/python3.6/dist-packages/sklearn/utils/deprecation.py:87: FutureWarning: Function safe_indexing is deprecated; safe_indexing is deprecated in version 0.22 and will be removed in version 0.24.\n",
            "  warnings.warn(msg, category=FutureWarning)\n",
            "/usr/local/lib/python3.6/dist-packages/sklearn/utils/deprecation.py:87: FutureWarning: Function safe_indexing is deprecated; safe_indexing is deprecated in version 0.22 and will be removed in version 0.24.\n",
            "  warnings.warn(msg, category=FutureWarning)\n",
            "/usr/local/lib/python3.6/dist-packages/sklearn/utils/deprecation.py:87: FutureWarning: Function safe_indexing is deprecated; safe_indexing is deprecated in version 0.22 and will be removed in version 0.24.\n",
            "  warnings.warn(msg, category=FutureWarning)\n"
          ],
          "name": "stderr"
        }
      ]
    },
    {
      "cell_type": "code",
      "metadata": {
        "id": "5imAoY-_qo1K",
        "colab_type": "code",
        "colab": {}
      },
      "source": [
        ""
      ],
      "execution_count": 0,
      "outputs": []
    },
    {
      "cell_type": "code",
      "metadata": {
        "id": "XmXh5mieqpG4",
        "colab_type": "code",
        "colab": {}
      },
      "source": [
        ""
      ],
      "execution_count": 0,
      "outputs": []
    },
    {
      "cell_type": "markdown",
      "metadata": {
        "id": "Q60M7yunw6v8",
        "colab_type": "text"
      },
      "source": [
        "# Logistic Regression"
      ]
    },
    {
      "cell_type": "code",
      "metadata": {
        "id": "X9CLXAw4aXIG",
        "colab_type": "code",
        "colab": {}
      },
      "source": [
        "pipeline = Pipeline([    \n",
        "\n",
        "  ('clf', LogisticRegression(\n",
        "      solver='newton-cg',  \n",
        "      multi_class='multinomial', \n",
        "      )),\n",
        "])\n",
        "\n",
        "\n",
        "pipeline.fit(X_train, y_train)\n",
        "y_pred = pipeline.predict(X_test)"
      ],
      "execution_count": 0,
      "outputs": []
    },
    {
      "cell_type": "code",
      "metadata": {
        "id": "xqZRXtA7aWzb",
        "colab_type": "code",
        "outputId": "0a870e1a-6155-4710-ae2f-9987ddc3658f",
        "colab": {
          "base_uri": "https://localhost:8080/",
          "height": 414
        }
      },
      "source": [
        "\n",
        "def test_model(X_test,y_test, model):\n",
        "    y_pred = model.predict(X_test)\n",
        "    accuracy = accuracy_score(y_pred, y_test)\n",
        "    report = classification_report(y_pred, y_test)\n",
        "    matrix = pd.DataFrame(confusion_matrix(y_test, y_pred),\n",
        "                columns=['p_VAGE', 'p_BEFORE', 'p_AFTER','p_SIMU'], index=['VAGUE', 'BEFORE', 'AFTER','SIMU'])\n",
        "    return accuracy, report, matrix\n",
        "\n",
        "accuracy, report, matrix = test_model(X_test, y_test, pipeline)\n",
        "print(\"the accuracy of the model is {accuracy:.{digits}f}\".format(accuracy=accuracy, digits=2))\n",
        "print()\n",
        "print(report)\n",
        "print()\n",
        "print(matrix)"
      ],
      "execution_count": 0,
      "outputs": [
        {
          "output_type": "stream",
          "text": [
            "the accuracy of the model is 0.50\n",
            "\n",
            "              precision    recall  f1-score   support\n",
            "\n",
            "           0       0.99      0.50      0.66       872\n",
            "           1       0.00      0.09      0.01        11\n",
            "           2       0.00      0.00      0.00         0\n",
            "           3       0.06      0.55      0.10        11\n",
            "\n",
            "    accuracy                           0.50       894\n",
            "   macro avg       0.26      0.28      0.19       894\n",
            "weighted avg       0.97      0.50      0.65       894\n",
            "\n",
            "\n",
            "        p_VAGE  p_BEFORE  p_AFTER  p_SIMU\n",
            "VAGUE      436         2        0       3\n",
            "BEFORE     219         1        0       2\n",
            "AFTER      119         7        0       0\n",
            "SIMU        98         1        0       6\n"
          ],
          "name": "stdout"
        },
        {
          "output_type": "stream",
          "text": [
            "/usr/local/lib/python3.6/dist-packages/sklearn/metrics/_classification.py:1272: UndefinedMetricWarning: Recall and F-score are ill-defined and being set to 0.0 in labels with no true samples. Use `zero_division` parameter to control this behavior.\n",
            "  _warn_prf(average, modifier, msg_start, len(result))\n"
          ],
          "name": "stderr"
        }
      ]
    },
    {
      "cell_type": "markdown",
      "metadata": {
        "id": "YChiLGxfp_vi",
        "colab_type": "text"
      },
      "source": [
        "## SMOTE"
      ]
    },
    {
      "cell_type": "code",
      "metadata": {
        "id": "jD2Am7IKp-7C",
        "colab_type": "code",
        "colab": {
          "base_uri": "https://localhost:8080/",
          "height": 479
        },
        "outputId": "d04c9df1-7615-412e-ba7c-b9f51c074958"
      },
      "source": [
        "pipeline = Pipeline([    \n",
        "\n",
        "  ('clf', LogisticRegression(\n",
        "      solver='newton-cg',  \n",
        "      multi_class='multinomial', \n",
        "      )),\n",
        "])\n",
        "\n",
        "smo = SMOTE(sampling_strategy={2:600, 3:600})\n",
        "# smo = SMOTE()\n",
        "X_smo, y_smo = smo.fit_sample(X_train, y_train)\n",
        "\n",
        "from collections import Counter\n",
        "print('dataset shape {}'.format(Counter(y_smo)))\n",
        "pipeline.fit(X_smo, y_smo)\n",
        "y_pred = pipeline.predict(X_test)\n",
        "\n",
        "def test_model(X_test,y_test, model):\n",
        "    y_pred = model.predict(X_test)\n",
        "    accuracy = accuracy_score(y_pred, y_test)\n",
        "    report = classification_report(y_pred, y_test)\n",
        "    matrix = pd.DataFrame(confusion_matrix(y_test, y_pred),\n",
        "                columns=['p_VAGE', 'p_BEFORE', 'p_AFTER','p_SIMU'], index=['VAGUE', 'BEFORE', 'AFTER','SIMU'])\n",
        "    return accuracy, report, matrix\n",
        "\n",
        "accuracy, report, matrix = test_model(X_test, y_test, pipeline)\n",
        "print(\"the accuracy of the model is {accuracy:.{digits}f}\".format(accuracy=accuracy, digits=2))\n",
        "print()\n",
        "print(report)\n",
        "print()\n",
        "print(matrix)"
      ],
      "execution_count": 129,
      "outputs": [
        {
          "output_type": "stream",
          "text": [
            "/usr/local/lib/python3.6/dist-packages/sklearn/utils/deprecation.py:87: FutureWarning: Function safe_indexing is deprecated; safe_indexing is deprecated in version 0.22 and will be removed in version 0.24.\n",
            "  warnings.warn(msg, category=FutureWarning)\n",
            "/usr/local/lib/python3.6/dist-packages/sklearn/utils/deprecation.py:87: FutureWarning: Function safe_indexing is deprecated; safe_indexing is deprecated in version 0.22 and will be removed in version 0.24.\n",
            "  warnings.warn(msg, category=FutureWarning)\n"
          ],
          "name": "stderr"
        },
        {
          "output_type": "stream",
          "text": [
            "dataset shape Counter({0: 1797, 1: 906, 3: 900, 2: 900})\n",
            "the accuracy of the model is 0.50\n",
            "\n",
            "              precision    recall  f1-score   support\n",
            "\n",
            "           0       0.99      0.50      0.66       872\n",
            "           1       0.00      0.10      0.01        10\n",
            "           2       0.00      0.00      0.00         0\n",
            "           3       0.07      0.58      0.12        12\n",
            "\n",
            "    accuracy                           0.50       894\n",
            "   macro avg       0.26      0.30      0.20       894\n",
            "weighted avg       0.97      0.50      0.65       894\n",
            "\n",
            "\n",
            "        p_VAGE  p_BEFORE  p_AFTER  p_SIMU\n",
            "VAGUE      436         2        0       3\n",
            "BEFORE     219         1        0       2\n",
            "AFTER      119         7        0       0\n",
            "SIMU        98         0        0       7\n"
          ],
          "name": "stdout"
        },
        {
          "output_type": "stream",
          "text": [
            "/usr/local/lib/python3.6/dist-packages/sklearn/metrics/_classification.py:1272: UndefinedMetricWarning: Recall and F-score are ill-defined and being set to 0.0 in labels with no true samples. Use `zero_division` parameter to control this behavior.\n",
            "  _warn_prf(average, modifier, msg_start, len(result))\n"
          ],
          "name": "stderr"
        }
      ]
    },
    {
      "cell_type": "code",
      "metadata": {
        "id": "wVB3Mv6rp_Oj",
        "colab_type": "code",
        "colab": {}
      },
      "source": [
        ""
      ],
      "execution_count": 0,
      "outputs": []
    },
    {
      "cell_type": "markdown",
      "metadata": {
        "id": "-3ISEZ21xoJX",
        "colab_type": "text"
      },
      "source": [
        "# Random Forest"
      ]
    },
    {
      "cell_type": "code",
      "metadata": {
        "id": "jPhtfn9CaWyJ",
        "colab_type": "code",
        "colab": {
          "base_uri": "https://localhost:8080/",
          "height": 34
        },
        "outputId": "b0afe375-38e4-45bd-8e8b-8748dbd55590"
      },
      "source": [
        "pipeline = Pipeline([    \n",
        "  ('clf', RandomForestClassifier(n_estimators = 43,\n",
        "                        min_samples_split = 20,\n",
        "                        max_depth = 250))\n",
        "])\n",
        "\n",
        "from collections import Counter\n",
        "print('dataset shape {}'.format(Counter(y_train)))\n",
        "pipeline.fit(X_train, y_train)\n",
        "y_pred = pipeline.predict(X_test)"
      ],
      "execution_count": 140,
      "outputs": [
        {
          "output_type": "stream",
          "text": [
            "dataset shape Counter({0: 1797, 1: 906, 3: 438, 2: 432})\n"
          ],
          "name": "stdout"
        }
      ]
    },
    {
      "cell_type": "code",
      "metadata": {
        "id": "MgYGAQ-IaWvC",
        "colab_type": "code",
        "outputId": "9d95f96b-d34a-481e-c498-fbe47bbc5d9b",
        "colab": {
          "base_uri": "https://localhost:8080/",
          "height": 340
        }
      },
      "source": [
        "\n",
        "def test_model(X_test,y_test, model):\n",
        "    y_pred = model.predict(X_test)\n",
        "    accuracy = accuracy_score(y_pred, y_test)\n",
        "    report = classification_report(y_pred, y_test)\n",
        "    matrix = pd.DataFrame(confusion_matrix(y_test, y_pred),\n",
        "                columns=['p_VAGE', 'p_BEFORE', 'p_AFTER','p_SIMU'], index=['VAGUE', 'BEFORE', 'AFTER','SIMU'])\n",
        "    return accuracy, report, matrix\n",
        "\n",
        "accuracy, report, matrix = test_model(X_test, y_test, pipeline)\n",
        "print(\"the accuracy of the model is {accuracy:.{digits}f}\".format(accuracy=accuracy, digits=2))\n",
        "print()\n",
        "print(report)\n",
        "print()\n",
        "print(matrix)"
      ],
      "execution_count": 141,
      "outputs": [
        {
          "output_type": "stream",
          "text": [
            "the accuracy of the model is 0.49\n",
            "\n",
            "              precision    recall  f1-score   support\n",
            "\n",
            "           0       0.87      0.51      0.64       762\n",
            "           1       0.16      0.37      0.23        97\n",
            "           2       0.05      0.38      0.08        16\n",
            "           3       0.08      0.42      0.13        19\n",
            "\n",
            "    accuracy                           0.49       894\n",
            "   macro avg       0.29      0.42      0.27       894\n",
            "weighted avg       0.76      0.49      0.57       894\n",
            "\n",
            "\n",
            "        p_VAGE  p_BEFORE  p_AFTER  p_SIMU\n",
            "VAGUE      385        46        5       5\n",
            "BEFORE     179        36        3       4\n",
            "AFTER      109         9        6       2\n",
            "SIMU        89         6        2       8\n"
          ],
          "name": "stdout"
        }
      ]
    },
    {
      "cell_type": "code",
      "metadata": {
        "id": "pwed9RZzaWql",
        "colab_type": "code",
        "colab": {}
      },
      "source": [
        ""
      ],
      "execution_count": 0,
      "outputs": []
    },
    {
      "cell_type": "markdown",
      "metadata": {
        "id": "mB62QZU2m2xb",
        "colab_type": "text"
      },
      "source": [
        "## Random Forest SMOTE"
      ]
    },
    {
      "cell_type": "code",
      "metadata": {
        "id": "jC1_r8qX0hLH",
        "colab_type": "code",
        "colab": {
          "base_uri": "https://localhost:8080/",
          "height": 499
        },
        "outputId": "ef6ca4ce-b4a6-4a11-8849-815489e9284c"
      },
      "source": [
        "pipeline = Pipeline([    \n",
        "  ('clf', RandomForestClassifier(n_estimators = 43,\n",
        "                        min_samples_split = 2,\n",
        "                        max_depth = 500))\n",
        "])\n",
        "\n",
        "smo = SMOTE({1:1000, 2:600, 3:500})\n",
        "X_smo, y_smo = smo.fit_sample(X_train, y_train)\n",
        "\n",
        "from collections import Counter\n",
        "print('dataset shape {}'.format(Counter(y_smo)))\n",
        "pipeline.fit(X_smo, y_smo)\n",
        "y_pred = pipeline.predict(X_test)\n",
        "\n",
        "\n",
        "def test_model(X_test,y_test, model):\n",
        "    y_pred = model.predict(X_test)\n",
        "    accuracy = accuracy_score(y_pred, y_test)\n",
        "    report = classification_report(y_pred, y_test)\n",
        "    matrix = pd.DataFrame(confusion_matrix(y_test, y_pred),\n",
        "                columns=['p_VAGE', 'p_BEFORE', 'p_AFTER','p_SIMU'], index=['VAGUE', 'BEFORE', 'AFTER','SIMU'])\n",
        "    return accuracy, report, matrix\n",
        "\n",
        "accuracy, report, matrix = test_model(X_test, y_test, pipeline)\n",
        "print(\"the accuracy of the model is {accuracy:.{digits}f}\".format(accuracy=accuracy, digits=2))\n",
        "print()\n",
        "print(report)\n",
        "print()\n",
        "print(matrix)"
      ],
      "execution_count": 145,
      "outputs": [
        {
          "output_type": "stream",
          "text": [
            "dataset shape Counter({0: 1797, 1: 1000, 3: 800, 2: 800})\n",
            "the accuracy of the model is 0.45\n",
            "\n",
            "              precision    recall  f1-score   support\n",
            "\n",
            "           0       0.76      0.50      0.61       662\n",
            "           1       0.16      0.36      0.22       101\n",
            "           2       0.11      0.22      0.15        64\n",
            "           3       0.17      0.27      0.21        67\n",
            "\n",
            "    accuracy                           0.45       894\n",
            "   macro avg       0.30      0.34      0.30       894\n",
            "weighted avg       0.60      0.45      0.50       894\n",
            "\n",
            "\n",
            "        p_VAGE  p_BEFORE  p_AFTER  p_SIMU\n",
            "VAGUE      334        54       28      25\n",
            "BEFORE     154        36       13      19\n",
            "AFTER       99         8       14       5\n",
            "SIMU        75         3        9      18\n"
          ],
          "name": "stdout"
        },
        {
          "output_type": "stream",
          "text": [
            "/usr/local/lib/python3.6/dist-packages/sklearn/utils/deprecation.py:87: FutureWarning: Function safe_indexing is deprecated; safe_indexing is deprecated in version 0.22 and will be removed in version 0.24.\n",
            "  warnings.warn(msg, category=FutureWarning)\n",
            "/usr/local/lib/python3.6/dist-packages/sklearn/utils/deprecation.py:87: FutureWarning: Function safe_indexing is deprecated; safe_indexing is deprecated in version 0.22 and will be removed in version 0.24.\n",
            "  warnings.warn(msg, category=FutureWarning)\n",
            "/usr/local/lib/python3.6/dist-packages/sklearn/utils/deprecation.py:87: FutureWarning: Function safe_indexing is deprecated; safe_indexing is deprecated in version 0.22 and will be removed in version 0.24.\n",
            "  warnings.warn(msg, category=FutureWarning)\n"
          ],
          "name": "stderr"
        }
      ]
    },
    {
      "cell_type": "markdown",
      "metadata": {
        "id": "LC0eb__yjkpQ",
        "colab_type": "text"
      },
      "source": [
        "## GradientBoosting"
      ]
    },
    {
      "cell_type": "code",
      "metadata": {
        "id": "NM2qpVOOaWny",
        "colab_type": "code",
        "colab": {}
      },
      "source": [
        "from sklearn.ensemble import GradientBoostingClassifier"
      ],
      "execution_count": 0,
      "outputs": []
    },
    {
      "cell_type": "code",
      "metadata": {
        "id": "3x2M7NJoaWap",
        "colab_type": "code",
        "colab": {
          "base_uri": "https://localhost:8080/",
          "height": 431
        },
        "outputId": "0ef9ee7d-3dad-4e1c-8c14-65730ff7f8a2"
      },
      "source": [
        "pipeline = Pipeline([    \n",
        "  ('clf', GradientBoostingClassifier())\n",
        "])\n",
        "\n",
        "smo = SMOTE('minority')\n",
        "X_smo, y_smo = smo.fit_sample(X_train, y_train)\n",
        "\n",
        "from collections import Counter\n",
        "print('dataset shape {}'.format(Counter(y_train)))\n",
        "pipeline.fit(X_train, y_train)\n",
        "y_pred = pipeline.predict(X_test)\n",
        "\n",
        "def test_model(X_test,y_test, model):\n",
        "    y_pred = model.predict(X_test)\n",
        "    accuracy = accuracy_score(y_pred, y_test)\n",
        "    report = classification_report(y_pred, y_test)\n",
        "    matrix = pd.DataFrame(confusion_matrix(y_test, y_pred),\n",
        "                columns=['p_VAGE', 'p_BEFORE', 'p_AFTER','p_SIMU'], index=['VAGUE', 'BEFORE', 'AFTER','SIMU'])\n",
        "    return accuracy, report, matrix\n",
        "\n",
        "accuracy, report, matrix = test_model(X_test, y_test, pipeline)\n",
        "print(\"the accuracy of the model is {accuracy:.{digits}f}\".format(accuracy=accuracy, digits=2))\n",
        "print()\n",
        "print(report)\n",
        "print()\n",
        "print(matrix)"
      ],
      "execution_count": 98,
      "outputs": [
        {
          "output_type": "stream",
          "text": [
            "/usr/local/lib/python3.6/dist-packages/sklearn/utils/deprecation.py:87: FutureWarning: Function safe_indexing is deprecated; safe_indexing is deprecated in version 0.22 and will be removed in version 0.24.\n",
            "  warnings.warn(msg, category=FutureWarning)\n"
          ],
          "name": "stderr"
        },
        {
          "output_type": "stream",
          "text": [
            "dataset shape Counter({0: 1797, 1: 906, 3: 438, 2: 432})\n",
            "the accuracy of the model is 0.49\n",
            "\n",
            "              precision    recall  f1-score   support\n",
            "\n",
            "           0       0.93      0.50      0.65       820\n",
            "           1       0.08      0.32      0.13        57\n",
            "           2       0.04      0.83      0.08         6\n",
            "           3       0.07      0.64      0.12        11\n",
            "\n",
            "    accuracy                           0.49       894\n",
            "   macro avg       0.28      0.57      0.24       894\n",
            "weighted avg       0.85      0.49      0.60       894\n",
            "\n",
            "\n",
            "        p_VAGE  p_BEFORE  p_AFTER  p_SIMU\n",
            "VAGUE      408        30        1       2\n",
            "BEFORE     202        18        0       2\n",
            "AFTER      115         6        5       0\n",
            "SIMU        95         3        0       7\n"
          ],
          "name": "stdout"
        }
      ]
    },
    {
      "cell_type": "markdown",
      "metadata": {
        "id": "U9Cgn_TDnmrY",
        "colab_type": "text"
      },
      "source": [
        " ## GradientBoosting SMOTE"
      ]
    },
    {
      "cell_type": "code",
      "metadata": {
        "id": "EYOgn2prjq5G",
        "colab_type": "code",
        "colab": {
          "base_uri": "https://localhost:8080/",
          "height": 496
        },
        "outputId": "3bfa3fed-697f-4bdb-92c4-c6715fb61885"
      },
      "source": [
        "pipeline = Pipeline([    \n",
        "  ('clf', GradientBoostingClassifier())\n",
        "])\n",
        "\n",
        "smo = SMOTE(sampling_strategy={1:1000, 2:600, 3:500})\n",
        "# smo = SMOTE()\n",
        "X_smo, y_smo = smo.fit_sample(X_train, y_train)\n",
        "\n",
        "from collections import Counter\n",
        "print('dataset shape {}'.format(Counter(y_train)))\n",
        "print('dataset shape {}'.format(Counter(y_smo)))\n",
        "pipeline.fit(X_smo, y_smo)\n",
        "y_pred = pipeline.predict(X_test)\n",
        "\n",
        "def test_model(X_test,y_test, model):\n",
        "    y_pred = model.predict(X_test)\n",
        "    accuracy = accuracy_score(y_pred, y_test)\n",
        "    report = classification_report(y_pred, y_test)\n",
        "    matrix = pd.DataFrame(confusion_matrix(y_test, y_pred),\n",
        "                columns=['p_VAGE', 'p_BEFORE', 'p_AFTER','p_SIMU'], index=['VAGUE', 'BEFORE', 'AFTER','SIMU'])\n",
        "    return accuracy, report, matrix\n",
        "\n",
        "accuracy, report, matrix = test_model(X_test, y_test, pipeline)\n",
        "print(\"the accuracy of the model is {accuracy:.{digits}f}\".format(accuracy=accuracy, digits=2))\n",
        "print()\n",
        "print(report)\n",
        "print()\n",
        "print(matrix)"
      ],
      "execution_count": 146,
      "outputs": [
        {
          "output_type": "stream",
          "text": [
            "/usr/local/lib/python3.6/dist-packages/sklearn/utils/deprecation.py:87: FutureWarning: Function safe_indexing is deprecated; safe_indexing is deprecated in version 0.22 and will be removed in version 0.24.\n",
            "  warnings.warn(msg, category=FutureWarning)\n",
            "/usr/local/lib/python3.6/dist-packages/sklearn/utils/deprecation.py:87: FutureWarning: Function safe_indexing is deprecated; safe_indexing is deprecated in version 0.22 and will be removed in version 0.24.\n",
            "  warnings.warn(msg, category=FutureWarning)\n",
            "/usr/local/lib/python3.6/dist-packages/sklearn/utils/deprecation.py:87: FutureWarning: Function safe_indexing is deprecated; safe_indexing is deprecated in version 0.22 and will be removed in version 0.24.\n",
            "  warnings.warn(msg, category=FutureWarning)\n"
          ],
          "name": "stderr"
        },
        {
          "output_type": "stream",
          "text": [
            "dataset shape Counter({0: 1797, 1: 906, 3: 438, 2: 432})\n",
            "dataset shape Counter({0: 1797, 1: 1000, 2: 600, 3: 500})\n",
            "the accuracy of the model is 0.49\n",
            "\n",
            "              precision    recall  f1-score   support\n",
            "\n",
            "           0       0.91      0.50      0.64       807\n",
            "           1       0.09      0.33      0.15        63\n",
            "           2       0.04      0.56      0.07         9\n",
            "           3       0.08      0.53      0.13        15\n",
            "\n",
            "    accuracy                           0.49       894\n",
            "   macro avg       0.28      0.48      0.25       894\n",
            "weighted avg       0.83      0.49      0.59       894\n",
            "\n",
            "\n",
            "        p_VAGE  p_BEFORE  p_AFTER  p_SIMU\n",
            "VAGUE      401        33        2       5\n",
            "BEFORE     198        21        1       2\n",
            "AFTER      115         6        5       0\n",
            "SIMU        93         3        1       8\n"
          ],
          "name": "stdout"
        }
      ]
    },
    {
      "cell_type": "code",
      "metadata": {
        "id": "yQfgY3Tbnwa2",
        "colab_type": "code",
        "colab": {}
      },
      "source": [
        ""
      ],
      "execution_count": 0,
      "outputs": []
    }
  ]
}
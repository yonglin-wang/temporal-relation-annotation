{
  "nbformat": 4,
  "nbformat_minor": 0,
  "metadata": {
    "colab": {
      "name": "Copy of cs140-annotation_all_data_without_vague.ipynb",
      "provenance": [],
      "collapsed_sections": []
    },
    "kernelspec": {
      "name": "python3",
      "display_name": "Python 3"
    }
  },
  "cells": [
    {
      "cell_type": "markdown",
      "metadata": {
        "id": "ubXjuh3GO8ry",
        "colab_type": "text"
      },
      "source": [
        "## CS140 - Group B\n"
      ]
    },
    {
      "cell_type": "code",
      "metadata": {
        "id": "HEc4Ca3OauPQ",
        "colab_type": "code",
        "colab": {}
      },
      "source": [
        "import pandas as pd\n",
        "from sklearn.preprocessing import LabelEncoder,OneHotEncoder\n",
        "from sklearn.base import TransformerMixin\n",
        "from sklearn.linear_model import LogisticRegression\n",
        "from sklearn.pipeline import FeatureUnion, Pipeline\n",
        "from sklearn.naive_bayes import BernoulliNB\n",
        "from sklearn.model_selection import train_test_split\n",
        "from sklearn.metrics import accuracy_score, confusion_matrix, classification_report \n",
        "from sklearn.ensemble import RandomForestClassifier"
      ],
      "execution_count": 0,
      "outputs": []
    },
    {
      "cell_type": "code",
      "metadata": {
        "id": "NJmdDHxmcIP2",
        "colab_type": "code",
        "colab": {}
      },
      "source": [
        "TAGS = ['CC', 'CD', 'DT', 'EX', 'FW', 'IN', 'JJ', 'JJR', 'JJS', 'LS', 'MD', 'NN', 'NNS', 'NNP', 'NNPS', 'PDT', 'POS', 'PRP', 'PRP$', 'RB', 'RBR', 'RBS', 'RP', 'TO', 'UH', 'VB', 'VBD', 'VBG', 'VBN', 'VBP', 'VBZ', 'WDT', 'WP', 'WP$', 'WRB']\n",
        "MODALS = ['will', 'would', 'can', 'could', 'may', 'might']\n",
        "TEMPS = ['before', 'after', 'since']"
      ],
      "execution_count": 0,
      "outputs": []
    },
    {
      "cell_type": "code",
      "metadata": {
        "id": "ejtDkZ6IaWPk",
        "colab_type": "code",
        "colab": {}
      },
      "source": [
        "df = pd.read_csv('https://raw.githubusercontent.com/YonglinWang-Brandeis/cs140-groupB-annotation-files/master/code/features_combine.csv')"
      ],
      "execution_count": 0,
      "outputs": []
    },
    {
      "cell_type": "code",
      "metadata": {
        "id": "aAsUct5GaWUh",
        "colab_type": "code",
        "outputId": "159f0af5-e29d-40b8-8251-1cb71c962575",
        "colab": {
          "base_uri": "https://localhost:8080/",
          "height": 204
        }
      },
      "source": [
        "df.head()\n"
      ],
      "execution_count": 45,
      "outputs": [
        {
          "output_type": "execute_result",
          "data": {
            "text/html": [
              "<div>\n",
              "<style scoped>\n",
              "    .dataframe tbody tr th:only-of-type {\n",
              "        vertical-align: middle;\n",
              "    }\n",
              "\n",
              "    .dataframe tbody tr th {\n",
              "        vertical-align: top;\n",
              "    }\n",
              "\n",
              "    .dataframe thead th {\n",
              "        text-align: right;\n",
              "    }\n",
              "</style>\n",
              "<table border=\"1\" class=\"dataframe\">\n",
              "  <thead>\n",
              "    <tr style=\"text-align: right;\">\n",
              "      <th></th>\n",
              "      <th>POS1</th>\n",
              "      <th>POS2</th>\n",
              "      <th>BEFORE_1</th>\n",
              "      <th>AFTER_1</th>\n",
              "      <th>BEFORE_2</th>\n",
              "      <th>AFTER_2</th>\n",
              "      <th>DISTANCE</th>\n",
              "      <th>MODAL</th>\n",
              "      <th>TEMP_BEFORE</th>\n",
              "      <th>TEMP_AFTER</th>\n",
              "      <th>TEMP_SINCE</th>\n",
              "      <th>SYN</th>\n",
              "      <th>DERIVATION</th>\n",
              "      <th>RELATION</th>\n",
              "    </tr>\n",
              "  </thead>\n",
              "  <tbody>\n",
              "    <tr>\n",
              "      <th>0</th>\n",
              "      <td>VBD</td>\n",
              "      <td>VBG</td>\n",
              "      <td>NNP</td>\n",
              "      <td>PRP</td>\n",
              "      <td>VBD</td>\n",
              "      <td>NNS</td>\n",
              "      <td>3</td>\n",
              "      <td>0</td>\n",
              "      <td>0.0</td>\n",
              "      <td>0.0</td>\n",
              "      <td>0.0</td>\n",
              "      <td>0</td>\n",
              "      <td>0</td>\n",
              "      <td>after</td>\n",
              "    </tr>\n",
              "    <tr>\n",
              "      <th>1</th>\n",
              "      <td>VBD</td>\n",
              "      <td>VB</td>\n",
              "      <td>NNP</td>\n",
              "      <td>PRP</td>\n",
              "      <td>MD</td>\n",
              "      <td>IN</td>\n",
              "      <td>12</td>\n",
              "      <td>1</td>\n",
              "      <td>0.0</td>\n",
              "      <td>0.0</td>\n",
              "      <td>0.0</td>\n",
              "      <td>0</td>\n",
              "      <td>0</td>\n",
              "      <td>after</td>\n",
              "    </tr>\n",
              "    <tr>\n",
              "      <th>2</th>\n",
              "      <td>VBG</td>\n",
              "      <td>VB</td>\n",
              "      <td>VBD</td>\n",
              "      <td>NNS</td>\n",
              "      <td>MD</td>\n",
              "      <td>IN</td>\n",
              "      <td>9</td>\n",
              "      <td>1</td>\n",
              "      <td>0.0</td>\n",
              "      <td>0.0</td>\n",
              "      <td>0.0</td>\n",
              "      <td>0</td>\n",
              "      <td>0</td>\n",
              "      <td>after</td>\n",
              "    </tr>\n",
              "    <tr>\n",
              "      <th>3</th>\n",
              "      <td>VBZ</td>\n",
              "      <td>VBD</td>\n",
              "      <td>EX</td>\n",
              "      <td>DT</td>\n",
              "      <td>NNP</td>\n",
              "      <td>PRP</td>\n",
              "      <td>6</td>\n",
              "      <td>0</td>\n",
              "      <td>0.0</td>\n",
              "      <td>0.0</td>\n",
              "      <td>0.0</td>\n",
              "      <td>0</td>\n",
              "      <td>0</td>\n",
              "      <td>vague</td>\n",
              "    </tr>\n",
              "    <tr>\n",
              "      <th>4</th>\n",
              "      <td>VBZ</td>\n",
              "      <td>VBD</td>\n",
              "      <td>EX</td>\n",
              "      <td>DT</td>\n",
              "      <td>NNS</td>\n",
              "      <td>NNP</td>\n",
              "      <td>16</td>\n",
              "      <td>0</td>\n",
              "      <td>0.0</td>\n",
              "      <td>0.0</td>\n",
              "      <td>0.0</td>\n",
              "      <td>0</td>\n",
              "      <td>0</td>\n",
              "      <td>vague</td>\n",
              "    </tr>\n",
              "  </tbody>\n",
              "</table>\n",
              "</div>"
            ],
            "text/plain": [
              "  POS1 POS2 BEFORE_1 AFTER_1  ... TEMP_SINCE SYN  DERIVATION  RELATION\n",
              "0  VBD  VBG      NNP     PRP  ...        0.0   0           0     after\n",
              "1  VBD   VB      NNP     PRP  ...        0.0   0           0     after\n",
              "2  VBG   VB      VBD     NNS  ...        0.0   0           0     after\n",
              "3  VBZ  VBD       EX      DT  ...        0.0   0           0     vague\n",
              "4  VBZ  VBD       EX      DT  ...        0.0   0           0     vague\n",
              "\n",
              "[5 rows x 14 columns]"
            ]
          },
          "metadata": {
            "tags": []
          },
          "execution_count": 45
        }
      ]
    },
    {
      "cell_type": "code",
      "metadata": {
        "id": "LWJFhYnsfgWH",
        "colab_type": "code",
        "outputId": "831cdf97-e166-4826-84d0-40f05754083d",
        "colab": {
          "base_uri": "https://localhost:8080/",
          "height": 34
        }
      },
      "source": [
        "df.shape"
      ],
      "execution_count": 46,
      "outputs": [
        {
          "output_type": "execute_result",
          "data": {
            "text/plain": [
              "(4467, 14)"
            ]
          },
          "metadata": {
            "tags": []
          },
          "execution_count": 46
        }
      ]
    },
    {
      "cell_type": "code",
      "metadata": {
        "id": "uo-zBf07k0i4",
        "colab_type": "code",
        "colab": {}
      },
      "source": [
        "def encode_labels(label):\n",
        "    if label == 'before':\n",
        "        return 0\n",
        "    elif label == 'after':\n",
        "        return 1\n",
        "    elif label == 'simultaneous':\n",
        "        return 2\n",
        "    else:\n",
        "        return 3"
      ],
      "execution_count": 0,
      "outputs": []
    },
    {
      "cell_type": "code",
      "metadata": {
        "id": "lyxD7Tjsk52i",
        "colab_type": "code",
        "colab": {}
      },
      "source": [
        "df_copy = df.copy()\n",
        "df['y'] = df_copy.RELATION.apply(encode_labels)"
      ],
      "execution_count": 0,
      "outputs": []
    },
    {
      "cell_type": "code",
      "metadata": {
        "id": "j-BuIHm6lcnp",
        "colab_type": "code",
        "outputId": "e18c2bea-0a33-40fc-bfad-1c8d7b60fa1d",
        "colab": {
          "base_uri": "https://localhost:8080/",
          "height": 204
        }
      },
      "source": [
        "df.head()"
      ],
      "execution_count": 49,
      "outputs": [
        {
          "output_type": "execute_result",
          "data": {
            "text/html": [
              "<div>\n",
              "<style scoped>\n",
              "    .dataframe tbody tr th:only-of-type {\n",
              "        vertical-align: middle;\n",
              "    }\n",
              "\n",
              "    .dataframe tbody tr th {\n",
              "        vertical-align: top;\n",
              "    }\n",
              "\n",
              "    .dataframe thead th {\n",
              "        text-align: right;\n",
              "    }\n",
              "</style>\n",
              "<table border=\"1\" class=\"dataframe\">\n",
              "  <thead>\n",
              "    <tr style=\"text-align: right;\">\n",
              "      <th></th>\n",
              "      <th>POS1</th>\n",
              "      <th>POS2</th>\n",
              "      <th>BEFORE_1</th>\n",
              "      <th>AFTER_1</th>\n",
              "      <th>BEFORE_2</th>\n",
              "      <th>AFTER_2</th>\n",
              "      <th>DISTANCE</th>\n",
              "      <th>MODAL</th>\n",
              "      <th>TEMP_BEFORE</th>\n",
              "      <th>TEMP_AFTER</th>\n",
              "      <th>TEMP_SINCE</th>\n",
              "      <th>SYN</th>\n",
              "      <th>DERIVATION</th>\n",
              "      <th>RELATION</th>\n",
              "      <th>y</th>\n",
              "    </tr>\n",
              "  </thead>\n",
              "  <tbody>\n",
              "    <tr>\n",
              "      <th>0</th>\n",
              "      <td>VBD</td>\n",
              "      <td>VBG</td>\n",
              "      <td>NNP</td>\n",
              "      <td>PRP</td>\n",
              "      <td>VBD</td>\n",
              "      <td>NNS</td>\n",
              "      <td>3</td>\n",
              "      <td>0</td>\n",
              "      <td>0.0</td>\n",
              "      <td>0.0</td>\n",
              "      <td>0.0</td>\n",
              "      <td>0</td>\n",
              "      <td>0</td>\n",
              "      <td>after</td>\n",
              "      <td>1</td>\n",
              "    </tr>\n",
              "    <tr>\n",
              "      <th>1</th>\n",
              "      <td>VBD</td>\n",
              "      <td>VB</td>\n",
              "      <td>NNP</td>\n",
              "      <td>PRP</td>\n",
              "      <td>MD</td>\n",
              "      <td>IN</td>\n",
              "      <td>12</td>\n",
              "      <td>1</td>\n",
              "      <td>0.0</td>\n",
              "      <td>0.0</td>\n",
              "      <td>0.0</td>\n",
              "      <td>0</td>\n",
              "      <td>0</td>\n",
              "      <td>after</td>\n",
              "      <td>1</td>\n",
              "    </tr>\n",
              "    <tr>\n",
              "      <th>2</th>\n",
              "      <td>VBG</td>\n",
              "      <td>VB</td>\n",
              "      <td>VBD</td>\n",
              "      <td>NNS</td>\n",
              "      <td>MD</td>\n",
              "      <td>IN</td>\n",
              "      <td>9</td>\n",
              "      <td>1</td>\n",
              "      <td>0.0</td>\n",
              "      <td>0.0</td>\n",
              "      <td>0.0</td>\n",
              "      <td>0</td>\n",
              "      <td>0</td>\n",
              "      <td>after</td>\n",
              "      <td>1</td>\n",
              "    </tr>\n",
              "    <tr>\n",
              "      <th>3</th>\n",
              "      <td>VBZ</td>\n",
              "      <td>VBD</td>\n",
              "      <td>EX</td>\n",
              "      <td>DT</td>\n",
              "      <td>NNP</td>\n",
              "      <td>PRP</td>\n",
              "      <td>6</td>\n",
              "      <td>0</td>\n",
              "      <td>0.0</td>\n",
              "      <td>0.0</td>\n",
              "      <td>0.0</td>\n",
              "      <td>0</td>\n",
              "      <td>0</td>\n",
              "      <td>vague</td>\n",
              "      <td>3</td>\n",
              "    </tr>\n",
              "    <tr>\n",
              "      <th>4</th>\n",
              "      <td>VBZ</td>\n",
              "      <td>VBD</td>\n",
              "      <td>EX</td>\n",
              "      <td>DT</td>\n",
              "      <td>NNS</td>\n",
              "      <td>NNP</td>\n",
              "      <td>16</td>\n",
              "      <td>0</td>\n",
              "      <td>0.0</td>\n",
              "      <td>0.0</td>\n",
              "      <td>0.0</td>\n",
              "      <td>0</td>\n",
              "      <td>0</td>\n",
              "      <td>vague</td>\n",
              "      <td>3</td>\n",
              "    </tr>\n",
              "  </tbody>\n",
              "</table>\n",
              "</div>"
            ],
            "text/plain": [
              "  POS1 POS2 BEFORE_1 AFTER_1 BEFORE_2  ... TEMP_SINCE  SYN  DERIVATION  RELATION  y\n",
              "0  VBD  VBG      NNP     PRP      VBD  ...        0.0    0           0     after  1\n",
              "1  VBD   VB      NNP     PRP       MD  ...        0.0    0           0     after  1\n",
              "2  VBG   VB      VBD     NNS       MD  ...        0.0    0           0     after  1\n",
              "3  VBZ  VBD       EX      DT      NNP  ...        0.0    0           0     vague  3\n",
              "4  VBZ  VBD       EX      DT      NNS  ...        0.0    0           0     vague  3\n",
              "\n",
              "[5 rows x 15 columns]"
            ]
          },
          "metadata": {
            "tags": []
          },
          "execution_count": 49
        }
      ]
    },
    {
      "cell_type": "code",
      "metadata": {
        "id": "rRF5bdOohJ5S",
        "colab_type": "code",
        "colab": {}
      },
      "source": [
        "df = df[~ df.isin([3])]"
      ],
      "execution_count": 0,
      "outputs": []
    },
    {
      "cell_type": "code",
      "metadata": {
        "id": "EOTmVWsSheJ5",
        "colab_type": "code",
        "colab": {
          "base_uri": "https://localhost:8080/",
          "height": 204
        },
        "outputId": "a8cd7af8-fc4f-4c66-8c20-9abce385ecbe"
      },
      "source": [
        "df.head()"
      ],
      "execution_count": 51,
      "outputs": [
        {
          "output_type": "execute_result",
          "data": {
            "text/html": [
              "<div>\n",
              "<style scoped>\n",
              "    .dataframe tbody tr th:only-of-type {\n",
              "        vertical-align: middle;\n",
              "    }\n",
              "\n",
              "    .dataframe tbody tr th {\n",
              "        vertical-align: top;\n",
              "    }\n",
              "\n",
              "    .dataframe thead th {\n",
              "        text-align: right;\n",
              "    }\n",
              "</style>\n",
              "<table border=\"1\" class=\"dataframe\">\n",
              "  <thead>\n",
              "    <tr style=\"text-align: right;\">\n",
              "      <th></th>\n",
              "      <th>POS1</th>\n",
              "      <th>POS2</th>\n",
              "      <th>BEFORE_1</th>\n",
              "      <th>AFTER_1</th>\n",
              "      <th>BEFORE_2</th>\n",
              "      <th>AFTER_2</th>\n",
              "      <th>DISTANCE</th>\n",
              "      <th>MODAL</th>\n",
              "      <th>TEMP_BEFORE</th>\n",
              "      <th>TEMP_AFTER</th>\n",
              "      <th>TEMP_SINCE</th>\n",
              "      <th>SYN</th>\n",
              "      <th>DERIVATION</th>\n",
              "      <th>RELATION</th>\n",
              "      <th>y</th>\n",
              "    </tr>\n",
              "  </thead>\n",
              "  <tbody>\n",
              "    <tr>\n",
              "      <th>0</th>\n",
              "      <td>VBD</td>\n",
              "      <td>VBG</td>\n",
              "      <td>NNP</td>\n",
              "      <td>PRP</td>\n",
              "      <td>VBD</td>\n",
              "      <td>NNS</td>\n",
              "      <td>NaN</td>\n",
              "      <td>0.0</td>\n",
              "      <td>0.0</td>\n",
              "      <td>0.0</td>\n",
              "      <td>0.0</td>\n",
              "      <td>0</td>\n",
              "      <td>0</td>\n",
              "      <td>after</td>\n",
              "      <td>1.0</td>\n",
              "    </tr>\n",
              "    <tr>\n",
              "      <th>1</th>\n",
              "      <td>VBD</td>\n",
              "      <td>VB</td>\n",
              "      <td>NNP</td>\n",
              "      <td>PRP</td>\n",
              "      <td>MD</td>\n",
              "      <td>IN</td>\n",
              "      <td>12.0</td>\n",
              "      <td>1.0</td>\n",
              "      <td>0.0</td>\n",
              "      <td>0.0</td>\n",
              "      <td>0.0</td>\n",
              "      <td>0</td>\n",
              "      <td>0</td>\n",
              "      <td>after</td>\n",
              "      <td>1.0</td>\n",
              "    </tr>\n",
              "    <tr>\n",
              "      <th>2</th>\n",
              "      <td>VBG</td>\n",
              "      <td>VB</td>\n",
              "      <td>VBD</td>\n",
              "      <td>NNS</td>\n",
              "      <td>MD</td>\n",
              "      <td>IN</td>\n",
              "      <td>9.0</td>\n",
              "      <td>1.0</td>\n",
              "      <td>0.0</td>\n",
              "      <td>0.0</td>\n",
              "      <td>0.0</td>\n",
              "      <td>0</td>\n",
              "      <td>0</td>\n",
              "      <td>after</td>\n",
              "      <td>1.0</td>\n",
              "    </tr>\n",
              "    <tr>\n",
              "      <th>3</th>\n",
              "      <td>VBZ</td>\n",
              "      <td>VBD</td>\n",
              "      <td>EX</td>\n",
              "      <td>DT</td>\n",
              "      <td>NNP</td>\n",
              "      <td>PRP</td>\n",
              "      <td>6.0</td>\n",
              "      <td>0.0</td>\n",
              "      <td>0.0</td>\n",
              "      <td>0.0</td>\n",
              "      <td>0.0</td>\n",
              "      <td>0</td>\n",
              "      <td>0</td>\n",
              "      <td>vague</td>\n",
              "      <td>NaN</td>\n",
              "    </tr>\n",
              "    <tr>\n",
              "      <th>4</th>\n",
              "      <td>VBZ</td>\n",
              "      <td>VBD</td>\n",
              "      <td>EX</td>\n",
              "      <td>DT</td>\n",
              "      <td>NNS</td>\n",
              "      <td>NNP</td>\n",
              "      <td>16.0</td>\n",
              "      <td>0.0</td>\n",
              "      <td>0.0</td>\n",
              "      <td>0.0</td>\n",
              "      <td>0.0</td>\n",
              "      <td>0</td>\n",
              "      <td>0</td>\n",
              "      <td>vague</td>\n",
              "      <td>NaN</td>\n",
              "    </tr>\n",
              "  </tbody>\n",
              "</table>\n",
              "</div>"
            ],
            "text/plain": [
              "  POS1 POS2 BEFORE_1 AFTER_1  ... SYN DERIVATION  RELATION    y\n",
              "0  VBD  VBG      NNP     PRP  ...   0          0     after  1.0\n",
              "1  VBD   VB      NNP     PRP  ...   0          0     after  1.0\n",
              "2  VBG   VB      VBD     NNS  ...   0          0     after  1.0\n",
              "3  VBZ  VBD       EX      DT  ...   0          0     vague  NaN\n",
              "4  VBZ  VBD       EX      DT  ...   0          0     vague  NaN\n",
              "\n",
              "[5 rows x 15 columns]"
            ]
          },
          "metadata": {
            "tags": []
          },
          "execution_count": 51
        }
      ]
    },
    {
      "cell_type": "code",
      "metadata": {
        "id": "tDfbwzylh34O",
        "colab_type": "code",
        "colab": {}
      },
      "source": [
        "df['y']=df['y'].fillna('null')\n",
        "df=df[~df['y'].isin(['null'])]\n",
        "df = df.dropna(axis=0,how='any')"
      ],
      "execution_count": 0,
      "outputs": []
    },
    {
      "cell_type": "code",
      "metadata": {
        "id": "9AlCVBU3iCYf",
        "colab_type": "code",
        "colab": {
          "base_uri": "https://localhost:8080/",
          "height": 204
        },
        "outputId": "7f475f2d-bde3-4ce1-b8a4-9a3f96391e4c"
      },
      "source": [
        "df.head()"
      ],
      "execution_count": 78,
      "outputs": [
        {
          "output_type": "execute_result",
          "data": {
            "text/html": [
              "<div>\n",
              "<style scoped>\n",
              "    .dataframe tbody tr th:only-of-type {\n",
              "        vertical-align: middle;\n",
              "    }\n",
              "\n",
              "    .dataframe tbody tr th {\n",
              "        vertical-align: top;\n",
              "    }\n",
              "\n",
              "    .dataframe thead th {\n",
              "        text-align: right;\n",
              "    }\n",
              "</style>\n",
              "<table border=\"1\" class=\"dataframe\">\n",
              "  <thead>\n",
              "    <tr style=\"text-align: right;\">\n",
              "      <th></th>\n",
              "      <th>POS1</th>\n",
              "      <th>POS2</th>\n",
              "      <th>BEFORE_1</th>\n",
              "      <th>AFTER_1</th>\n",
              "      <th>BEFORE_2</th>\n",
              "      <th>AFTER_2</th>\n",
              "      <th>DISTANCE</th>\n",
              "      <th>MODAL</th>\n",
              "      <th>TEMP_BEFORE</th>\n",
              "      <th>TEMP_AFTER</th>\n",
              "      <th>TEMP_SINCE</th>\n",
              "      <th>SYN</th>\n",
              "      <th>DERIVATION</th>\n",
              "      <th>RELATION</th>\n",
              "      <th>y</th>\n",
              "    </tr>\n",
              "  </thead>\n",
              "  <tbody>\n",
              "    <tr>\n",
              "      <th>1</th>\n",
              "      <td>VBD</td>\n",
              "      <td>VB</td>\n",
              "      <td>NNP</td>\n",
              "      <td>PRP</td>\n",
              "      <td>MD</td>\n",
              "      <td>IN</td>\n",
              "      <td>12.0</td>\n",
              "      <td>1.0</td>\n",
              "      <td>0.0</td>\n",
              "      <td>0.0</td>\n",
              "      <td>0.0</td>\n",
              "      <td>0</td>\n",
              "      <td>0</td>\n",
              "      <td>after</td>\n",
              "      <td>1.0</td>\n",
              "    </tr>\n",
              "    <tr>\n",
              "      <th>2</th>\n",
              "      <td>VBG</td>\n",
              "      <td>VB</td>\n",
              "      <td>VBD</td>\n",
              "      <td>NNS</td>\n",
              "      <td>MD</td>\n",
              "      <td>IN</td>\n",
              "      <td>9.0</td>\n",
              "      <td>1.0</td>\n",
              "      <td>0.0</td>\n",
              "      <td>0.0</td>\n",
              "      <td>0.0</td>\n",
              "      <td>0</td>\n",
              "      <td>0</td>\n",
              "      <td>after</td>\n",
              "      <td>1.0</td>\n",
              "    </tr>\n",
              "    <tr>\n",
              "      <th>5</th>\n",
              "      <td>VBZ</td>\n",
              "      <td>VBN</td>\n",
              "      <td>EX</td>\n",
              "      <td>DT</td>\n",
              "      <td>RB</td>\n",
              "      <td>RBR</td>\n",
              "      <td>42.0</td>\n",
              "      <td>0.0</td>\n",
              "      <td>0.0</td>\n",
              "      <td>0.0</td>\n",
              "      <td>0.0</td>\n",
              "      <td>1</td>\n",
              "      <td>0</td>\n",
              "      <td>after</td>\n",
              "      <td>1.0</td>\n",
              "    </tr>\n",
              "    <tr>\n",
              "      <th>6</th>\n",
              "      <td>VBZ</td>\n",
              "      <td>VBP</td>\n",
              "      <td>EX</td>\n",
              "      <td>DT</td>\n",
              "      <td>PRP</td>\n",
              "      <td>JJR</td>\n",
              "      <td>47.0</td>\n",
              "      <td>0.0</td>\n",
              "      <td>0.0</td>\n",
              "      <td>0.0</td>\n",
              "      <td>0.0</td>\n",
              "      <td>0</td>\n",
              "      <td>0</td>\n",
              "      <td>after</td>\n",
              "      <td>1.0</td>\n",
              "    </tr>\n",
              "    <tr>\n",
              "      <th>8</th>\n",
              "      <td>VBZ</td>\n",
              "      <td>VBZ</td>\n",
              "      <td>EX</td>\n",
              "      <td>DT</td>\n",
              "      <td>WDT</td>\n",
              "      <td>RBR</td>\n",
              "      <td>61.0</td>\n",
              "      <td>0.0</td>\n",
              "      <td>0.0</td>\n",
              "      <td>0.0</td>\n",
              "      <td>0.0</td>\n",
              "      <td>1</td>\n",
              "      <td>1</td>\n",
              "      <td>simultaneous</td>\n",
              "      <td>2.0</td>\n",
              "    </tr>\n",
              "  </tbody>\n",
              "</table>\n",
              "</div>"
            ],
            "text/plain": [
              "  POS1 POS2 BEFORE_1 AFTER_1  ... SYN DERIVATION      RELATION    y\n",
              "1  VBD   VB      NNP     PRP  ...   0          0         after  1.0\n",
              "2  VBG   VB      VBD     NNS  ...   0          0         after  1.0\n",
              "5  VBZ  VBN       EX      DT  ...   1          0         after  1.0\n",
              "6  VBZ  VBP       EX      DT  ...   0          0         after  1.0\n",
              "8  VBZ  VBZ       EX      DT  ...   1          1  simultaneous  2.0\n",
              "\n",
              "[5 rows x 15 columns]"
            ]
          },
          "metadata": {
            "tags": []
          },
          "execution_count": 78
        }
      ]
    },
    {
      "cell_type": "code",
      "metadata": {
        "id": "ccl49zOivfyo",
        "colab_type": "code",
        "outputId": "0f0e9310-873e-4bd0-d034-85c51d8cbb46",
        "colab": {
          "base_uri": "https://localhost:8080/",
          "height": 74
        }
      },
      "source": [
        "print(list(df.columns) )"
      ],
      "execution_count": 79,
      "outputs": [
        {
          "output_type": "stream",
          "text": [
            "['POS1', 'POS2', 'BEFORE_1', 'AFTER_1', 'BEFORE_2', 'AFTER_2', 'DISTANCE', 'MODAL', 'TEMP_BEFORE', 'TEMP_AFTER', 'TEMP_SINCE', 'SYN', 'DERIVATION', 'RELATION', 'y']\n"
          ],
          "name": "stdout"
        }
      ]
    },
    {
      "cell_type": "code",
      "metadata": {
        "id": "D63fziXNujgl",
        "colab_type": "code",
        "colab": {}
      },
      "source": [
        "y_data = df['y']\n",
        "# x_data = df[['POS1', 'POS2', 'BEFORE_1', 'AFTER_1', 'BEFORE_2', 'AFTER_2', 'DISTANCE', 'MODAL', 'TEMP_BEFORE', 'TEMP_AFTER', 'TEMP_SINCE', 'SYN', 'DERIVATION']]\n",
        "x_data = df[[ 'DISTANCE', 'MODAL', 'TEMP_BEFORE', 'TEMP_AFTER', 'TEMP_SINCE', 'SYN', 'DERIVATION']]"
      ],
      "execution_count": 0,
      "outputs": []
    },
    {
      "cell_type": "code",
      "metadata": {
        "id": "LMyMRCFFaWXt",
        "colab_type": "code",
        "colab": {}
      },
      "source": [
        "X_train, X_test, y_train, y_test = train_test_split(x_data, y_data, train_size=0.8, random_state=0)"
      ],
      "execution_count": 0,
      "outputs": []
    },
    {
      "cell_type": "code",
      "metadata": {
        "id": "B6HFR5DafpZj",
        "colab_type": "code",
        "outputId": "fa97d6bd-5698-40f7-eb78-1c60585d5fdf",
        "colab": {
          "base_uri": "https://localhost:8080/",
          "height": 34
        }
      },
      "source": [
        "from collections import Counter\n",
        "print('dataset shape {}'.format(Counter(y_train)))"
      ],
      "execution_count": 82,
      "outputs": [
        {
          "output_type": "stream",
          "text": [
            "dataset shape Counter({0.0: 861, 1.0: 439, 2.0: 381})\n"
          ],
          "name": "stdout"
        }
      ]
    },
    {
      "cell_type": "code",
      "metadata": {
        "id": "n4e5OL37kQue",
        "colab_type": "code",
        "outputId": "e2051286-a212-457d-8419-5235cd4a0e47",
        "colab": {
          "base_uri": "https://localhost:8080/",
          "height": 34
        }
      },
      "source": [
        "print('dataset shape {}'.format(Counter(y_data)))"
      ],
      "execution_count": 83,
      "outputs": [
        {
          "output_type": "stream",
          "text": [
            "dataset shape Counter({0.0: 1086, 1.0: 545, 2.0: 471})\n"
          ],
          "name": "stdout"
        }
      ]
    },
    {
      "cell_type": "code",
      "metadata": {
        "id": "jcJS57fIjXAq",
        "colab_type": "code",
        "colab": {
          "base_uri": "https://localhost:8080/",
          "height": 34
        },
        "outputId": "85c694bb-a622-437f-b586-e1c7dbfb3f35"
      },
      "source": [
        "df.shape"
      ],
      "execution_count": 84,
      "outputs": [
        {
          "output_type": "execute_result",
          "data": {
            "text/plain": [
              "(2102, 15)"
            ]
          },
          "metadata": {
            "tags": []
          },
          "execution_count": 84
        }
      ]
    },
    {
      "cell_type": "code",
      "metadata": {
        "id": "IVWIf4fcZ9Xw",
        "colab_type": "code",
        "outputId": "2f5fc636-8130-4f7d-95b9-3fe8c9a6afe9",
        "colab": {
          "base_uri": "https://localhost:8080/",
          "height": 131
        }
      },
      "source": [
        "!pip install imbalanced-learn"
      ],
      "execution_count": 85,
      "outputs": [
        {
          "output_type": "stream",
          "text": [
            "Requirement already satisfied: imbalanced-learn in /usr/local/lib/python3.6/dist-packages (0.4.3)\n",
            "Requirement already satisfied: scipy>=0.13.3 in /usr/local/lib/python3.6/dist-packages (from imbalanced-learn) (1.4.1)\n",
            "Requirement already satisfied: numpy>=1.8.2 in /usr/local/lib/python3.6/dist-packages (from imbalanced-learn) (1.18.4)\n",
            "Requirement already satisfied: scikit-learn>=0.20 in /usr/local/lib/python3.6/dist-packages (from imbalanced-learn) (0.22.2.post1)\n",
            "Requirement already satisfied: joblib>=0.11 in /usr/local/lib/python3.6/dist-packages (from scikit-learn>=0.20->imbalanced-learn) (0.14.1)\n"
          ],
          "name": "stdout"
        }
      ]
    },
    {
      "cell_type": "code",
      "metadata": {
        "id": "TA6QmkuEa7WJ",
        "colab_type": "code",
        "outputId": "95345ec9-d08a-4dab-9ed3-27964d052811",
        "colab": {
          "base_uri": "https://localhost:8080/",
          "height": 34
        }
      },
      "source": [
        "import imblearn\n",
        "print(imblearn.__version__)"
      ],
      "execution_count": 86,
      "outputs": [
        {
          "output_type": "stream",
          "text": [
            "0.4.3\n"
          ],
          "name": "stdout"
        }
      ]
    },
    {
      "cell_type": "code",
      "metadata": {
        "id": "mXtuPwjWbA7p",
        "colab_type": "code",
        "colab": {}
      },
      "source": [
        "from imblearn.over_sampling import SMOTE\n",
        "from imblearn.pipeline import Pipeline\n",
        "from sklearn.model_selection import train_test_split as tts"
      ],
      "execution_count": 0,
      "outputs": []
    },
    {
      "cell_type": "code",
      "metadata": {
        "id": "1vtyz0UQesJS",
        "colab_type": "code",
        "outputId": "bc2761f4-d6cb-4190-d701-3f441560b27b",
        "colab": {
          "base_uri": "https://localhost:8080/",
          "height": 51
        }
      },
      "source": [
        "\n",
        "from collections import Counter\n",
        "print('dataset shape {}'.format(Counter(y_data)))\n",
        "print('dataset shape {}'.format(Counter(y_train)))"
      ],
      "execution_count": 88,
      "outputs": [
        {
          "output_type": "stream",
          "text": [
            "dataset shape Counter({0.0: 1086, 1.0: 545, 2.0: 471})\n",
            "dataset shape Counter({0.0: 861, 1.0: 439, 2.0: 381})\n"
          ],
          "name": "stdout"
        }
      ]
    },
    {
      "cell_type": "markdown",
      "metadata": {
        "id": "bmnZdHP3t0sx",
        "colab_type": "text"
      },
      "source": [
        "# Naíve Bayes"
      ]
    },
    {
      "cell_type": "code",
      "metadata": {
        "id": "aRScwRmlaXBV",
        "colab_type": "code",
        "colab": {}
      },
      "source": [
        "pipeline = Pipeline([    \n",
        "    ('clf', BernoulliNB()),\n",
        "])\n",
        "\n",
        "pipeline.fit(X_train, y_train)\n",
        "y_pred = pipeline.predict(X_test)"
      ],
      "execution_count": 0,
      "outputs": []
    },
    {
      "cell_type": "code",
      "metadata": {
        "id": "7SBw2XyGaXK7",
        "colab_type": "code",
        "outputId": "ee4f4042-8dd7-485c-e540-44d0c2903f34",
        "colab": {
          "base_uri": "https://localhost:8080/",
          "height": 380
        }
      },
      "source": [
        "\n",
        "def test_model(X_test,y_test, model):\n",
        "    y_pred = model.predict(X_test)\n",
        "    accuracy = accuracy_score(y_pred, y_test)\n",
        "    report = classification_report(y_pred, y_test)\n",
        "    matrix = pd.DataFrame(confusion_matrix(y_test, y_pred),\n",
        "                columns=['p_BEFORE', 'p_AFTER','p_SIMU'], index=[ 'BEFORE', 'AFTER','SIMU'])\n",
        "    return accuracy, report, matrix\n",
        "\n",
        "accuracy, report, matrix = test_model(X_test, y_test, pipeline)\n",
        "print(\"the accuracy of the model is {accuracy:.{digits}f}\".format(accuracy=accuracy, digits=2))\n",
        "print()\n",
        "print(report)\n",
        "print()\n",
        "print(matrix)"
      ],
      "execution_count": 93,
      "outputs": [
        {
          "output_type": "stream",
          "text": [
            "the accuracy of the model is 0.55\n",
            "\n",
            "              precision    recall  f1-score   support\n",
            "\n",
            "         0.0       0.96      0.56      0.70       387\n",
            "         1.0       0.00      0.00      0.00         0\n",
            "         2.0       0.19      0.50      0.27        34\n",
            "\n",
            "    accuracy                           0.55       421\n",
            "   macro avg       0.38      0.35      0.33       421\n",
            "weighted avg       0.89      0.55      0.67       421\n",
            "\n",
            "\n",
            "        p_BEFORE  p_AFTER  p_SIMU\n",
            "BEFORE       215        0      10\n",
            "AFTER         99        0       7\n",
            "SIMU          73        0      17\n"
          ],
          "name": "stdout"
        },
        {
          "output_type": "stream",
          "text": [
            "/usr/local/lib/python3.6/dist-packages/sklearn/metrics/_classification.py:1272: UndefinedMetricWarning: Recall and F-score are ill-defined and being set to 0.0 in labels with no true samples. Use `zero_division` parameter to control this behavior.\n",
            "  _warn_prf(average, modifier, msg_start, len(result))\n"
          ],
          "name": "stderr"
        }
      ]
    },
    {
      "cell_type": "markdown",
      "metadata": {
        "id": "ku5kMU_Nqjvc",
        "colab_type": "text"
      },
      "source": [
        "SMOTE"
      ]
    },
    {
      "cell_type": "code",
      "metadata": {
        "id": "DzTqqjHAqofK",
        "colab_type": "code",
        "outputId": "21f704d4-7bc0-45c8-fb03-7fd498739733",
        "colab": {
          "base_uri": "https://localhost:8080/",
          "height": 431
        }
      },
      "source": [
        "pipeline = Pipeline([    \n",
        "\n",
        "     ('clf', BernoulliNB()),\n",
        "])\n",
        "\n",
        "smo = SMOTE(sampling_strategy={1.0:600,2.0:600 })\n",
        "# smo = SMOTE()\n",
        "X_smo, y_smo = smo.fit_sample(X_train, y_train)\n",
        "\n",
        "from collections import Counter\n",
        "print('dataset shape {}'.format(Counter(y_smo)))\n",
        "pipeline.fit(X_smo, y_smo)\n",
        "y_pred = pipeline.predict(X_test)\n",
        "\n",
        "def test_model(X_test,y_test, model):\n",
        "    y_pred = model.predict(X_test)\n",
        "    accuracy = accuracy_score(y_pred, y_test)\n",
        "    report = classification_report(y_pred, y_test)\n",
        "    matrix = pd.DataFrame(confusion_matrix(y_test, y_pred),\n",
        "                columns=['p_BEFORE', 'p_AFTER','p_SIMU'], index=['BEFORE', 'AFTER','SIMU'])\n",
        "    return accuracy, report, matrix\n",
        "\n",
        "accuracy, report, matrix = test_model(X_test, y_test, pipeline)\n",
        "print(\"the accuracy of the model is {accuracy:.{digits}f}\".format(accuracy=accuracy, digits=2))\n",
        "print()\n",
        "print(report)\n",
        "print()\n",
        "print(matrix)"
      ],
      "execution_count": 135,
      "outputs": [
        {
          "output_type": "stream",
          "text": [
            "dataset shape Counter({0.0: 861, 1.0: 600, 2.0: 600})\n",
            "the accuracy of the model is 0.53\n",
            "\n",
            "              precision    recall  f1-score   support\n",
            "\n",
            "         0.0       0.91      0.55      0.68       372\n",
            "         1.0       0.01      0.50      0.02         2\n",
            "         2.0       0.21      0.40      0.28        47\n",
            "\n",
            "    accuracy                           0.53       421\n",
            "   macro avg       0.38      0.48      0.33       421\n",
            "weighted avg       0.82      0.53      0.63       421\n",
            "\n",
            "\n",
            "        p_BEFORE  p_AFTER  p_SIMU\n",
            "BEFORE       204        1      20\n",
            "AFTER         97        1       8\n",
            "SIMU          71        0      19\n"
          ],
          "name": "stdout"
        },
        {
          "output_type": "stream",
          "text": [
            "/usr/local/lib/python3.6/dist-packages/sklearn/utils/deprecation.py:87: FutureWarning: Function safe_indexing is deprecated; safe_indexing is deprecated in version 0.22 and will be removed in version 0.24.\n",
            "  warnings.warn(msg, category=FutureWarning)\n",
            "/usr/local/lib/python3.6/dist-packages/sklearn/utils/deprecation.py:87: FutureWarning: Function safe_indexing is deprecated; safe_indexing is deprecated in version 0.22 and will be removed in version 0.24.\n",
            "  warnings.warn(msg, category=FutureWarning)\n"
          ],
          "name": "stderr"
        }
      ]
    },
    {
      "cell_type": "code",
      "metadata": {
        "id": "5imAoY-_qo1K",
        "colab_type": "code",
        "colab": {}
      },
      "source": [
        ""
      ],
      "execution_count": 0,
      "outputs": []
    },
    {
      "cell_type": "code",
      "metadata": {
        "id": "XmXh5mieqpG4",
        "colab_type": "code",
        "colab": {}
      },
      "source": [
        ""
      ],
      "execution_count": 0,
      "outputs": []
    },
    {
      "cell_type": "markdown",
      "metadata": {
        "id": "Q60M7yunw6v8",
        "colab_type": "text"
      },
      "source": [
        "# Logistic Regression"
      ]
    },
    {
      "cell_type": "code",
      "metadata": {
        "id": "X9CLXAw4aXIG",
        "colab_type": "code",
        "colab": {}
      },
      "source": [
        "pipeline = Pipeline([    \n",
        "\n",
        "  ('clf', LogisticRegression(\n",
        "      solver='newton-cg',  \n",
        "      multi_class='multinomial', \n",
        "      )),\n",
        "])\n",
        "\n",
        "\n",
        "pipeline.fit(X_train, y_train)\n",
        "y_pred = pipeline.predict(X_test)"
      ],
      "execution_count": 0,
      "outputs": []
    },
    {
      "cell_type": "code",
      "metadata": {
        "id": "xqZRXtA7aWzb",
        "colab_type": "code",
        "outputId": "b181ab30-07dd-4d10-f2c3-59325b53b50b",
        "colab": {
          "base_uri": "https://localhost:8080/",
          "height": 306
        }
      },
      "source": [
        "\n",
        "def test_model(X_test,y_test, model):\n",
        "    y_pred = model.predict(X_test)\n",
        "    accuracy = accuracy_score(y_pred, y_test)\n",
        "    report = classification_report(y_pred, y_test)\n",
        "    matrix = pd.DataFrame(confusion_matrix(y_test, y_pred),\n",
        "                columns=['p_BEFORE', 'p_AFTER','p_SIMU'], index=[ 'BEFORE', 'AFTER','SIMU'])\n",
        "    return accuracy, report, matrix\n",
        "\n",
        "accuracy, report, matrix = test_model(X_test, y_test, pipeline)\n",
        "print(\"the accuracy of the model is {accuracy:.{digits}f}\".format(accuracy=accuracy, digits=2))\n",
        "print()\n",
        "print(report)\n",
        "print()\n",
        "print(matrix)"
      ],
      "execution_count": 95,
      "outputs": [
        {
          "output_type": "stream",
          "text": [
            "the accuracy of the model is 0.55\n",
            "\n",
            "              precision    recall  f1-score   support\n",
            "\n",
            "         0.0       0.96      0.55      0.70       389\n",
            "         1.0       0.02      0.50      0.04         4\n",
            "         2.0       0.17      0.54      0.25        28\n",
            "\n",
            "    accuracy                           0.55       421\n",
            "   macro avg       0.38      0.53      0.33       421\n",
            "weighted avg       0.89      0.55      0.66       421\n",
            "\n",
            "\n",
            "        p_BEFORE  p_AFTER  p_SIMU\n",
            "BEFORE       215        2       8\n",
            "AFTER         99        2       5\n",
            "SIMU          75        0      15\n"
          ],
          "name": "stdout"
        }
      ]
    },
    {
      "cell_type": "markdown",
      "metadata": {
        "id": "YChiLGxfp_vi",
        "colab_type": "text"
      },
      "source": [
        "## SMOTE"
      ]
    },
    {
      "cell_type": "code",
      "metadata": {
        "id": "jD2Am7IKp-7C",
        "colab_type": "code",
        "outputId": "560f8d79-1939-4b5a-c62b-4de07467aad0",
        "colab": {
          "base_uri": "https://localhost:8080/",
          "height": 431
        }
      },
      "source": [
        "pipeline = Pipeline([    \n",
        "\n",
        "  ('clf', LogisticRegression(\n",
        "      solver='newton-cg',  \n",
        "      multi_class='multinomial', \n",
        "      )),\n",
        "])\n",
        "\n",
        "# smo = SMOTE(sampling_strategy={1.0:600,2.0:600 })\n",
        "smo = SMOTE()\n",
        "X_smo, y_smo = smo.fit_sample(X_train, y_train)\n",
        "\n",
        "from collections import Counter\n",
        "print('dataset shape {}'.format(Counter(y_smo)))\n",
        "pipeline.fit(X_smo, y_smo)\n",
        "y_pred = pipeline.predict(X_test)\n",
        "\n",
        "def test_model(X_test,y_test, model):\n",
        "    y_pred = model.predict(X_test)\n",
        "    accuracy = accuracy_score(y_pred, y_test)\n",
        "    report = classification_report(y_pred, y_test)\n",
        "    matrix = pd.DataFrame(confusion_matrix(y_test, y_pred),\n",
        "                columns=[ 'p_BEFORE', 'p_AFTER','p_SIMU'], index=[ 'BEFORE', 'AFTER','SIMU'])\n",
        "    return accuracy, report, matrix\n",
        "\n",
        "accuracy, report, matrix = test_model(X_test, y_test, pipeline)\n",
        "print(\"the accuracy of the model is {accuracy:.{digits}f}\".format(accuracy=accuracy, digits=2))\n",
        "print()\n",
        "print(report)\n",
        "print()\n",
        "print(matrix)"
      ],
      "execution_count": 136,
      "outputs": [
        {
          "output_type": "stream",
          "text": [
            "dataset shape Counter({0.0: 861, 1.0: 861, 2.0: 861})\n",
            "the accuracy of the model is 0.37\n",
            "\n",
            "              precision    recall  f1-score   support\n",
            "\n",
            "         0.0       0.25      0.61      0.36        94\n",
            "         1.0       0.71      0.27      0.40       273\n",
            "         2.0       0.24      0.41      0.31        54\n",
            "\n",
            "    accuracy                           0.37       421\n",
            "   macro avg       0.40      0.43      0.35       421\n",
            "weighted avg       0.55      0.37      0.38       421\n",
            "\n",
            "\n",
            "        p_BEFORE  p_AFTER  p_SIMU\n",
            "BEFORE        57      144      24\n",
            "AFTER         23       75       8\n",
            "SIMU          14       54      22\n"
          ],
          "name": "stdout"
        },
        {
          "output_type": "stream",
          "text": [
            "/usr/local/lib/python3.6/dist-packages/sklearn/utils/deprecation.py:87: FutureWarning: Function safe_indexing is deprecated; safe_indexing is deprecated in version 0.22 and will be removed in version 0.24.\n",
            "  warnings.warn(msg, category=FutureWarning)\n",
            "/usr/local/lib/python3.6/dist-packages/sklearn/utils/deprecation.py:87: FutureWarning: Function safe_indexing is deprecated; safe_indexing is deprecated in version 0.22 and will be removed in version 0.24.\n",
            "  warnings.warn(msg, category=FutureWarning)\n"
          ],
          "name": "stderr"
        }
      ]
    },
    {
      "cell_type": "code",
      "metadata": {
        "id": "wVB3Mv6rp_Oj",
        "colab_type": "code",
        "colab": {}
      },
      "source": [
        ""
      ],
      "execution_count": 0,
      "outputs": []
    },
    {
      "cell_type": "markdown",
      "metadata": {
        "id": "-3ISEZ21xoJX",
        "colab_type": "text"
      },
      "source": [
        "# Random Forest"
      ]
    },
    {
      "cell_type": "code",
      "metadata": {
        "id": "jPhtfn9CaWyJ",
        "colab_type": "code",
        "outputId": "9e95eff3-a6ae-4634-da08-c2d1fb3b1ac8",
        "colab": {
          "base_uri": "https://localhost:8080/",
          "height": 34
        }
      },
      "source": [
        "pipeline = Pipeline([    \n",
        "  ('clf', RandomForestClassifier(n_estimators = 43,\n",
        "                        min_samples_split = 20,\n",
        "                        max_depth = 250))\n",
        "])\n",
        "\n",
        "from collections import Counter\n",
        "print('dataset shape {}'.format(Counter(y_train)))\n",
        "pipeline.fit(X_train, y_train)\n",
        "y_pred = pipeline.predict(X_test)"
      ],
      "execution_count": 123,
      "outputs": [
        {
          "output_type": "stream",
          "text": [
            "dataset shape Counter({0.0: 861, 1.0: 439, 2.0: 381})\n"
          ],
          "name": "stdout"
        }
      ]
    },
    {
      "cell_type": "code",
      "metadata": {
        "id": "MgYGAQ-IaWvC",
        "colab_type": "code",
        "outputId": "c8a7913f-99ac-4c09-9489-57780707d604",
        "colab": {
          "base_uri": "https://localhost:8080/",
          "height": 306
        }
      },
      "source": [
        "\n",
        "def test_model(X_test,y_test, model):\n",
        "    y_pred = model.predict(X_test)\n",
        "    accuracy = accuracy_score(y_pred, y_test)\n",
        "    report = classification_report(y_pred, y_test)\n",
        "    matrix = pd.DataFrame(confusion_matrix(y_test, y_pred),\n",
        "                columns=[ 'p_BEFORE', 'p_AFTER','p_SIMU'], index=[ 'BEFORE', 'AFTER','SIMU'])\n",
        "    return accuracy, report, matrix\n",
        "\n",
        "accuracy, report, matrix = test_model(X_test, y_test, pipeline)\n",
        "print(\"the accuracy of the model is {accuracy:.{digits}f}\".format(accuracy=accuracy, digits=2))\n",
        "print()\n",
        "print(report)\n",
        "print()\n",
        "print(matrix)"
      ],
      "execution_count": 124,
      "outputs": [
        {
          "output_type": "stream",
          "text": [
            "the accuracy of the model is 0.54\n",
            "\n",
            "              precision    recall  f1-score   support\n",
            "\n",
            "         0.0       0.86      0.56      0.68       345\n",
            "         1.0       0.11      0.33      0.17        36\n",
            "         2.0       0.23      0.53      0.32        40\n",
            "\n",
            "    accuracy                           0.54       421\n",
            "   macro avg       0.40      0.47      0.39       421\n",
            "weighted avg       0.73      0.54      0.60       421\n",
            "\n",
            "\n",
            "        p_BEFORE  p_AFTER  p_SIMU\n",
            "BEFORE       193       19      13\n",
            "AFTER         88       12       6\n",
            "SIMU          64        5      21\n"
          ],
          "name": "stdout"
        }
      ]
    },
    {
      "cell_type": "code",
      "metadata": {
        "id": "pwed9RZzaWql",
        "colab_type": "code",
        "colab": {}
      },
      "source": [
        ""
      ],
      "execution_count": 0,
      "outputs": []
    },
    {
      "cell_type": "markdown",
      "metadata": {
        "id": "mB62QZU2m2xb",
        "colab_type": "text"
      },
      "source": [
        "## Random Forest SMOTE"
      ]
    },
    {
      "cell_type": "code",
      "metadata": {
        "id": "jC1_r8qX0hLH",
        "colab_type": "code",
        "outputId": "d7695041-5ec0-4e8f-d716-4219491e5aee",
        "colab": {
          "base_uri": "https://localhost:8080/",
          "height": 431
        }
      },
      "source": [
        "pipeline = Pipeline([    \n",
        "  ('clf', RandomForestClassifier(n_estimators = 43,\n",
        "                        min_samples_split = 2,\n",
        "                        max_depth = 500))\n",
        "])\n",
        "\n",
        "# smo = SMOTE({1.0:600,2.0:600 })\n",
        "smo = SMOTE()\n",
        "X_smo, y_smo = smo.fit_sample(X_train, y_train)\n",
        "\n",
        "from collections import Counter\n",
        "print('dataset shape {}'.format(Counter(y_smo)))\n",
        "pipeline.fit(X_smo, y_smo)\n",
        "y_pred = pipeline.predict(X_test)\n",
        "\n",
        "\n",
        "def test_model(X_test,y_test, model):\n",
        "    y_pred = model.predict(X_test)\n",
        "    accuracy = accuracy_score(y_pred, y_test)\n",
        "    report = classification_report(y_pred, y_test)\n",
        "    matrix = pd.DataFrame(confusion_matrix(y_test, y_pred),\n",
        "                columns=['p_BEFORE', 'p_AFTER','p_SIMU'], index=[ 'BEFORE', 'AFTER','SIMU'])\n",
        "    return accuracy, report, matrix\n",
        "\n",
        "accuracy, report, matrix = test_model(X_test, y_test, pipeline)\n",
        "print(\"the accuracy of the model is {accuracy:.{digits}f}\".format(accuracy=accuracy, digits=2))\n",
        "print()\n",
        "print(report)\n",
        "print()\n",
        "print(matrix)"
      ],
      "execution_count": 137,
      "outputs": [
        {
          "output_type": "stream",
          "text": [
            "dataset shape Counter({0.0: 861, 1.0: 861, 2.0: 861})\n",
            "the accuracy of the model is 0.43\n",
            "\n",
            "              precision    recall  f1-score   support\n",
            "\n",
            "         0.0       0.48      0.61      0.54       175\n",
            "         1.0       0.38      0.31      0.34       130\n",
            "         2.0       0.39      0.30      0.34       116\n",
            "\n",
            "    accuracy                           0.43       421\n",
            "   macro avg       0.41      0.41      0.40       421\n",
            "weighted avg       0.42      0.43      0.42       421\n",
            "\n",
            "\n",
            "        p_BEFORE  p_AFTER  p_SIMU\n",
            "BEFORE       107       60      58\n",
            "AFTER         43       40      23\n",
            "SIMU          25       30      35\n"
          ],
          "name": "stdout"
        },
        {
          "output_type": "stream",
          "text": [
            "/usr/local/lib/python3.6/dist-packages/sklearn/utils/deprecation.py:87: FutureWarning: Function safe_indexing is deprecated; safe_indexing is deprecated in version 0.22 and will be removed in version 0.24.\n",
            "  warnings.warn(msg, category=FutureWarning)\n",
            "/usr/local/lib/python3.6/dist-packages/sklearn/utils/deprecation.py:87: FutureWarning: Function safe_indexing is deprecated; safe_indexing is deprecated in version 0.22 and will be removed in version 0.24.\n",
            "  warnings.warn(msg, category=FutureWarning)\n"
          ],
          "name": "stderr"
        }
      ]
    },
    {
      "cell_type": "markdown",
      "metadata": {
        "id": "LC0eb__yjkpQ",
        "colab_type": "text"
      },
      "source": [
        "## GradientBoosting"
      ]
    },
    {
      "cell_type": "code",
      "metadata": {
        "id": "NM2qpVOOaWny",
        "colab_type": "code",
        "colab": {}
      },
      "source": [
        "from sklearn.ensemble import GradientBoostingClassifier"
      ],
      "execution_count": 0,
      "outputs": []
    },
    {
      "cell_type": "code",
      "metadata": {
        "id": "3x2M7NJoaWap",
        "colab_type": "code",
        "outputId": "55362ad2-94a3-42f9-d320-f196f65f234d",
        "colab": {
          "base_uri": "https://localhost:8080/",
          "height": 431
        }
      },
      "source": [
        "pipeline = Pipeline([    \n",
        "  ('clf', GradientBoostingClassifier())\n",
        "])\n",
        "\n",
        "smo = SMOTE({1.0:600,2.0:600 })\n",
        "X_smo, y_smo = smo.fit_sample(X_train, y_train)\n",
        "\n",
        "from collections import Counter\n",
        "print('dataset shape {}'.format(Counter(y_train)))\n",
        "pipeline.fit(X_train, y_train)\n",
        "y_pred = pipeline.predict(X_test)\n",
        "\n",
        "def test_model(X_test,y_test, model):\n",
        "    y_pred = model.predict(X_test)\n",
        "    accuracy = accuracy_score(y_pred, y_test)\n",
        "    report = classification_report(y_pred, y_test)\n",
        "    matrix = pd.DataFrame(confusion_matrix(y_test, y_pred),\n",
        "                columns=[ 'p_BEFORE', 'p_AFTER','p_SIMU'], index=[ 'BEFORE', 'AFTER','SIMU'])\n",
        "    return accuracy, report, matrix\n",
        "\n",
        "accuracy, report, matrix = test_model(X_test, y_test, pipeline)\n",
        "print(\"the accuracy of the model is {accuracy:.{digits}f}\".format(accuracy=accuracy, digits=2))\n",
        "print()\n",
        "print(report)\n",
        "print()\n",
        "print(matrix)"
      ],
      "execution_count": 130,
      "outputs": [
        {
          "output_type": "stream",
          "text": [
            "/usr/local/lib/python3.6/dist-packages/sklearn/utils/deprecation.py:87: FutureWarning: Function safe_indexing is deprecated; safe_indexing is deprecated in version 0.22 and will be removed in version 0.24.\n",
            "  warnings.warn(msg, category=FutureWarning)\n",
            "/usr/local/lib/python3.6/dist-packages/sklearn/utils/deprecation.py:87: FutureWarning: Function safe_indexing is deprecated; safe_indexing is deprecated in version 0.22 and will be removed in version 0.24.\n",
            "  warnings.warn(msg, category=FutureWarning)\n"
          ],
          "name": "stderr"
        },
        {
          "output_type": "stream",
          "text": [
            "dataset shape Counter({0.0: 861, 1.0: 439, 2.0: 381})\n",
            "the accuracy of the model is 0.55\n",
            "\n",
            "              precision    recall  f1-score   support\n",
            "\n",
            "         0.0       0.93      0.56      0.70       373\n",
            "         1.0       0.08      0.44      0.13        18\n",
            "         2.0       0.17      0.50      0.25        30\n",
            "\n",
            "    accuracy                           0.55       421\n",
            "   macro avg       0.39      0.50      0.36       421\n",
            "weighted avg       0.84      0.55      0.64       421\n",
            "\n",
            "\n",
            "        p_BEFORE  p_AFTER  p_SIMU\n",
            "BEFORE       209        5      11\n",
            "AFTER         94        8       4\n",
            "SIMU          70        5      15\n"
          ],
          "name": "stdout"
        }
      ]
    },
    {
      "cell_type": "markdown",
      "metadata": {
        "id": "U9Cgn_TDnmrY",
        "colab_type": "text"
      },
      "source": [
        " ## GradientBoosting SMOTE"
      ]
    },
    {
      "cell_type": "code",
      "metadata": {
        "id": "EYOgn2prjq5G",
        "colab_type": "code",
        "outputId": "8948eaa0-884d-4879-fdac-0a33df847295",
        "colab": {
          "base_uri": "https://localhost:8080/",
          "height": 448
        }
      },
      "source": [
        "pipeline = Pipeline([    \n",
        "  ('clf', GradientBoostingClassifier())\n",
        "])\n",
        "\n",
        "# smo = SMOTE({1.0:600,2.0:600 })\n",
        "smo = SMOTE()\n",
        "X_smo, y_smo = smo.fit_sample(X_train, y_train)\n",
        "\n",
        "from collections import Counter\n",
        "print('dataset shape {}'.format(Counter(y_train)))\n",
        "print('dataset shape {}'.format(Counter(y_smo)))\n",
        "pipeline.fit(X_smo, y_smo)\n",
        "y_pred = pipeline.predict(X_test)\n",
        "\n",
        "def test_model(X_test,y_test, model):\n",
        "    y_pred = model.predict(X_test)\n",
        "    accuracy = accuracy_score(y_pred, y_test)\n",
        "    report = classification_report(y_pred, y_test)\n",
        "    matrix = pd.DataFrame(confusion_matrix(y_test, y_pred),\n",
        "                columns=['p_BEFORE', 'p_AFTER','p_SIMU'], index=[ 'BEFORE', 'AFTER','SIMU'])\n",
        "    return accuracy, report, matrix\n",
        "\n",
        "accuracy, report, matrix = test_model(X_test, y_test, pipeline)\n",
        "print(\"the accuracy of the model is {accuracy:.{digits}f}\".format(accuracy=accuracy, digits=2))\n",
        "print()\n",
        "print(report)\n",
        "print()\n",
        "print(matrix)"
      ],
      "execution_count": 138,
      "outputs": [
        {
          "output_type": "stream",
          "text": [
            "/usr/local/lib/python3.6/dist-packages/sklearn/utils/deprecation.py:87: FutureWarning: Function safe_indexing is deprecated; safe_indexing is deprecated in version 0.22 and will be removed in version 0.24.\n",
            "  warnings.warn(msg, category=FutureWarning)\n",
            "/usr/local/lib/python3.6/dist-packages/sklearn/utils/deprecation.py:87: FutureWarning: Function safe_indexing is deprecated; safe_indexing is deprecated in version 0.22 and will be removed in version 0.24.\n",
            "  warnings.warn(msg, category=FutureWarning)\n"
          ],
          "name": "stderr"
        },
        {
          "output_type": "stream",
          "text": [
            "dataset shape Counter({0.0: 861, 1.0: 439, 2.0: 381})\n",
            "dataset shape Counter({0.0: 861, 1.0: 861, 2.0: 861})\n",
            "the accuracy of the model is 0.42\n",
            "\n",
            "              precision    recall  f1-score   support\n",
            "\n",
            "         0.0       0.40      0.63      0.49       142\n",
            "         1.0       0.55      0.30      0.38       196\n",
            "         2.0       0.32      0.35      0.34        83\n",
            "\n",
            "    accuracy                           0.42       421\n",
            "   macro avg       0.42      0.43      0.40       421\n",
            "weighted avg       0.45      0.42      0.41       421\n",
            "\n",
            "\n",
            "        p_BEFORE  p_AFTER  p_SIMU\n",
            "BEFORE        90       97      38\n",
            "AFTER         32       58      16\n",
            "SIMU          20       41      29\n"
          ],
          "name": "stdout"
        }
      ]
    },
    {
      "cell_type": "code",
      "metadata": {
        "id": "yQfgY3Tbnwa2",
        "colab_type": "code",
        "colab": {}
      },
      "source": [
        ""
      ],
      "execution_count": 0,
      "outputs": []
    }
  ]
}
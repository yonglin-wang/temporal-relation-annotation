{
  "nbformat": 4,
  "nbformat_minor": 0,
  "metadata": {
    "colab": {
      "name": "cs140-annotation_gold_standard.ipynb",
      "provenance": [],
      "collapsed_sections": []
    },
    "kernelspec": {
      "name": "python3",
      "display_name": "Python 3"
    }
  },
  "cells": [
    {
      "cell_type": "markdown",
      "metadata": {
        "id": "ubXjuh3GO8ry",
        "colab_type": "text"
      },
      "source": [
        "## CS140 - Group B\n"
      ]
    },
    {
      "cell_type": "code",
      "metadata": {
        "id": "HEc4Ca3OauPQ",
        "colab_type": "code",
        "colab": {
          "base_uri": "https://localhost:8080/",
          "height": 213
        },
        "outputId": "57836312-31c7-42c6-f799-8a08043cf7ef"
      },
      "source": [
        "import pandas as pd\n",
        "from sklearn.preprocessing import LabelEncoder,OneHotEncoder\n",
        "from sklearn.base import TransformerMixin\n",
        "from sklearn.linear_model import LogisticRegression\n",
        "from sklearn.pipeline import FeatureUnion, Pipeline\n",
        "from sklearn.naive_bayes import BernoulliNB\n",
        "from sklearn.model_selection import train_test_split\n",
        "from sklearn.metrics import accuracy_score, confusion_matrix, classification_report \n",
        "from sklearn.ensemble import RandomForestClassifier\n",
        "from plotly.offline import iplot\n",
        "from imblearn.over_sampling import SMOTE\n",
        "from imblearn.pipeline import Pipeline\n",
        "from sklearn.model_selection import train_test_split as tts"
      ],
      "execution_count": 4,
      "outputs": [
        {
          "output_type": "stream",
          "text": [
            "/usr/local/lib/python3.6/dist-packages/sklearn/externals/six.py:31: FutureWarning:\n",
            "\n",
            "The module is deprecated in version 0.21 and will be removed in version 0.23 since we've dropped support for Python 2.7. Please rely on the official version of six (https://pypi.org/project/six/).\n",
            "\n",
            "/usr/local/lib/python3.6/dist-packages/sklearn/utils/deprecation.py:144: FutureWarning:\n",
            "\n",
            "The sklearn.neighbors.base module is  deprecated in version 0.22 and will be removed in version 0.24. The corresponding classes / functions should instead be imported from sklearn.neighbors. Anything that cannot be imported from sklearn.neighbors is now part of the private API.\n",
            "\n"
          ],
          "name": "stderr"
        }
      ]
    },
    {
      "cell_type": "code",
      "metadata": {
        "id": "SL8LWIfgPTVL",
        "colab_type": "code",
        "outputId": "0a23f6be-d130-4915-92fd-9ff6c8ae9d66",
        "colab": {
          "base_uri": "https://localhost:8080/",
          "height": 17
        }
      },
      "source": [
        "import cufflinks as cf\n",
        "cf.go_offline()\n",
        "cf.set_config_file(offline=False, world_readable=True)"
      ],
      "execution_count": 5,
      "outputs": [
        {
          "output_type": "display_data",
          "data": {
            "text/html": [
              "        <script type=\"text/javascript\">\n",
              "        window.PlotlyConfig = {MathJaxConfig: 'local'};\n",
              "        if (window.MathJax) {MathJax.Hub.Config({SVG: {font: \"STIX-Web\"}});}\n",
              "        if (typeof require !== 'undefined') {\n",
              "        require.undef(\"plotly\");\n",
              "        requirejs.config({\n",
              "            paths: {\n",
              "                'plotly': ['https://cdn.plot.ly/plotly-latest.min']\n",
              "            }\n",
              "        });\n",
              "        require(['plotly'], function(Plotly) {\n",
              "            window._Plotly = Plotly;\n",
              "        });\n",
              "        }\n",
              "        </script>\n",
              "        "
            ]
          },
          "metadata": {
            "tags": []
          }
        }
      ]
    },
    {
      "cell_type": "code",
      "metadata": {
        "id": "NJmdDHxmcIP2",
        "colab_type": "code",
        "colab": {}
      },
      "source": [
        "TAGS = ['CC', 'CD', 'DT', 'EX', 'FW', 'IN', 'JJ', 'JJR', 'JJS', 'LS', 'MD', 'NN', 'NNS', 'NNP', 'NNPS', 'PDT', 'POS', 'PRP', 'PRP$', 'RB', 'RBR', 'RBS', 'RP', 'TO', 'UH', 'VB', 'VBD', 'VBG', 'VBN', 'VBP', 'VBZ', 'WDT', 'WP', 'WP$', 'WRB']\n",
        "MODALS = ['will', 'would', 'can', 'could', 'may', 'might']\n",
        "TEMPS = ['before', 'after', 'since']"
      ],
      "execution_count": 0,
      "outputs": []
    },
    {
      "cell_type": "code",
      "metadata": {
        "id": "ejtDkZ6IaWPk",
        "colab_type": "code",
        "colab": {}
      },
      "source": [
        "df = pd.read_csv('https://raw.githubusercontent.com/YonglinWang-Brandeis/cs140-groupB-annotation-files/master/code/features_gold.csv')"
      ],
      "execution_count": 0,
      "outputs": []
    },
    {
      "cell_type": "code",
      "metadata": {
        "id": "aAsUct5GaWUh",
        "colab_type": "code",
        "outputId": "3c4e4014-9688-46c6-ba4e-c5b9df459d05",
        "colab": {
          "base_uri": "https://localhost:8080/",
          "height": 204
        }
      },
      "source": [
        "df.head()\n"
      ],
      "execution_count": 8,
      "outputs": [
        {
          "output_type": "execute_result",
          "data": {
            "text/html": [
              "<div>\n",
              "<style scoped>\n",
              "    .dataframe tbody tr th:only-of-type {\n",
              "        vertical-align: middle;\n",
              "    }\n",
              "\n",
              "    .dataframe tbody tr th {\n",
              "        vertical-align: top;\n",
              "    }\n",
              "\n",
              "    .dataframe thead th {\n",
              "        text-align: right;\n",
              "    }\n",
              "</style>\n",
              "<table border=\"1\" class=\"dataframe\">\n",
              "  <thead>\n",
              "    <tr style=\"text-align: right;\">\n",
              "      <th></th>\n",
              "      <th>POS1</th>\n",
              "      <th>POS2</th>\n",
              "      <th>BEFORE_1</th>\n",
              "      <th>AFTER_1</th>\n",
              "      <th>BEFORE_2</th>\n",
              "      <th>AFTER_2</th>\n",
              "      <th>DISTANCE</th>\n",
              "      <th>MODAL</th>\n",
              "      <th>TEMP_BEFORE</th>\n",
              "      <th>TEMP_AFTER</th>\n",
              "      <th>TEMP_SINCE</th>\n",
              "      <th>SYN</th>\n",
              "      <th>DERIVATION</th>\n",
              "      <th>RELATION</th>\n",
              "    </tr>\n",
              "  </thead>\n",
              "  <tbody>\n",
              "    <tr>\n",
              "      <th>0</th>\n",
              "      <td>VBD</td>\n",
              "      <td>VBG</td>\n",
              "      <td>NNP</td>\n",
              "      <td>PRP</td>\n",
              "      <td>VBD</td>\n",
              "      <td>NNS</td>\n",
              "      <td>3</td>\n",
              "      <td>0</td>\n",
              "      <td>0.0</td>\n",
              "      <td>0.0</td>\n",
              "      <td>0.0</td>\n",
              "      <td>0</td>\n",
              "      <td>0</td>\n",
              "      <td>after</td>\n",
              "    </tr>\n",
              "    <tr>\n",
              "      <th>1</th>\n",
              "      <td>VBZ</td>\n",
              "      <td>VBD</td>\n",
              "      <td>EX</td>\n",
              "      <td>DT</td>\n",
              "      <td>NNP</td>\n",
              "      <td>PRP</td>\n",
              "      <td>6</td>\n",
              "      <td>0</td>\n",
              "      <td>0.0</td>\n",
              "      <td>0.0</td>\n",
              "      <td>0.0</td>\n",
              "      <td>0</td>\n",
              "      <td>0</td>\n",
              "      <td>vague</td>\n",
              "    </tr>\n",
              "    <tr>\n",
              "      <th>2</th>\n",
              "      <td>VBZ</td>\n",
              "      <td>VBD</td>\n",
              "      <td>EX</td>\n",
              "      <td>DT</td>\n",
              "      <td>NNS</td>\n",
              "      <td>NNP</td>\n",
              "      <td>16</td>\n",
              "      <td>0</td>\n",
              "      <td>0.0</td>\n",
              "      <td>0.0</td>\n",
              "      <td>0.0</td>\n",
              "      <td>0</td>\n",
              "      <td>0</td>\n",
              "      <td>vague</td>\n",
              "    </tr>\n",
              "    <tr>\n",
              "      <th>3</th>\n",
              "      <td>VBZ</td>\n",
              "      <td>VBN</td>\n",
              "      <td>EX</td>\n",
              "      <td>DT</td>\n",
              "      <td>RB</td>\n",
              "      <td>RBR</td>\n",
              "      <td>42</td>\n",
              "      <td>0</td>\n",
              "      <td>0.0</td>\n",
              "      <td>0.0</td>\n",
              "      <td>0.0</td>\n",
              "      <td>1</td>\n",
              "      <td>0</td>\n",
              "      <td>after</td>\n",
              "    </tr>\n",
              "    <tr>\n",
              "      <th>4</th>\n",
              "      <td>VBZ</td>\n",
              "      <td>VBP</td>\n",
              "      <td>EX</td>\n",
              "      <td>DT</td>\n",
              "      <td>PRP</td>\n",
              "      <td>JJR</td>\n",
              "      <td>47</td>\n",
              "      <td>0</td>\n",
              "      <td>0.0</td>\n",
              "      <td>0.0</td>\n",
              "      <td>0.0</td>\n",
              "      <td>0</td>\n",
              "      <td>0</td>\n",
              "      <td>after</td>\n",
              "    </tr>\n",
              "  </tbody>\n",
              "</table>\n",
              "</div>"
            ],
            "text/plain": [
              "  POS1 POS2 BEFORE_1 AFTER_1  ... TEMP_SINCE SYN  DERIVATION  RELATION\n",
              "0  VBD  VBG      NNP     PRP  ...        0.0   0           0     after\n",
              "1  VBZ  VBD       EX      DT  ...        0.0   0           0     vague\n",
              "2  VBZ  VBD       EX      DT  ...        0.0   0           0     vague\n",
              "3  VBZ  VBN       EX      DT  ...        0.0   1           0     after\n",
              "4  VBZ  VBP       EX      DT  ...        0.0   0           0     after\n",
              "\n",
              "[5 rows x 14 columns]"
            ]
          },
          "metadata": {
            "tags": []
          },
          "execution_count": 8
        }
      ]
    },
    {
      "cell_type": "code",
      "metadata": {
        "id": "LWJFhYnsfgWH",
        "colab_type": "code",
        "outputId": "b0dcd541-80f6-455d-cd5c-014f7970fb80",
        "colab": {
          "base_uri": "https://localhost:8080/",
          "height": 34
        }
      },
      "source": [
        "df.shape"
      ],
      "execution_count": 10,
      "outputs": [
        {
          "output_type": "execute_result",
          "data": {
            "text/plain": [
              "(662, 14)"
            ]
          },
          "metadata": {
            "tags": []
          },
          "execution_count": 10
        }
      ]
    },
    {
      "cell_type": "code",
      "metadata": {
        "id": "V2gJl3uHP5z5",
        "colab_type": "code",
        "colab": {}
      },
      "source": [
        ""
      ],
      "execution_count": 0,
      "outputs": []
    },
    {
      "cell_type": "code",
      "metadata": {
        "id": "uo-zBf07k0i4",
        "colab_type": "code",
        "colab": {}
      },
      "source": [
        "def encode_labels(label):\n",
        "    if label == 'vague':\n",
        "        return 0\n",
        "    elif label == 'before':\n",
        "        return 1\n",
        "    elif label == 'after':\n",
        "        return 2\n",
        "    else:\n",
        "        return 3"
      ],
      "execution_count": 0,
      "outputs": []
    },
    {
      "cell_type": "code",
      "metadata": {
        "id": "lyxD7Tjsk52i",
        "colab_type": "code",
        "colab": {}
      },
      "source": [
        "df_copy = df.copy()\n",
        "df['y'] = df_copy.RELATION.apply(encode_labels)"
      ],
      "execution_count": 0,
      "outputs": []
    },
    {
      "cell_type": "code",
      "metadata": {
        "id": "j-BuIHm6lcnp",
        "colab_type": "code",
        "outputId": "ab4f3aba-4f2a-4406-e014-8314c61773bc",
        "colab": {
          "base_uri": "https://localhost:8080/",
          "height": 204
        }
      },
      "source": [
        "df.head()"
      ],
      "execution_count": 13,
      "outputs": [
        {
          "output_type": "execute_result",
          "data": {
            "text/html": [
              "<div>\n",
              "<style scoped>\n",
              "    .dataframe tbody tr th:only-of-type {\n",
              "        vertical-align: middle;\n",
              "    }\n",
              "\n",
              "    .dataframe tbody tr th {\n",
              "        vertical-align: top;\n",
              "    }\n",
              "\n",
              "    .dataframe thead th {\n",
              "        text-align: right;\n",
              "    }\n",
              "</style>\n",
              "<table border=\"1\" class=\"dataframe\">\n",
              "  <thead>\n",
              "    <tr style=\"text-align: right;\">\n",
              "      <th></th>\n",
              "      <th>POS1</th>\n",
              "      <th>POS2</th>\n",
              "      <th>BEFORE_1</th>\n",
              "      <th>AFTER_1</th>\n",
              "      <th>BEFORE_2</th>\n",
              "      <th>AFTER_2</th>\n",
              "      <th>DISTANCE</th>\n",
              "      <th>MODAL</th>\n",
              "      <th>TEMP_BEFORE</th>\n",
              "      <th>TEMP_AFTER</th>\n",
              "      <th>TEMP_SINCE</th>\n",
              "      <th>SYN</th>\n",
              "      <th>DERIVATION</th>\n",
              "      <th>RELATION</th>\n",
              "      <th>y</th>\n",
              "    </tr>\n",
              "  </thead>\n",
              "  <tbody>\n",
              "    <tr>\n",
              "      <th>0</th>\n",
              "      <td>VBD</td>\n",
              "      <td>VBG</td>\n",
              "      <td>NNP</td>\n",
              "      <td>PRP</td>\n",
              "      <td>VBD</td>\n",
              "      <td>NNS</td>\n",
              "      <td>3</td>\n",
              "      <td>0</td>\n",
              "      <td>0.0</td>\n",
              "      <td>0.0</td>\n",
              "      <td>0.0</td>\n",
              "      <td>0</td>\n",
              "      <td>0</td>\n",
              "      <td>after</td>\n",
              "      <td>2</td>\n",
              "    </tr>\n",
              "    <tr>\n",
              "      <th>1</th>\n",
              "      <td>VBZ</td>\n",
              "      <td>VBD</td>\n",
              "      <td>EX</td>\n",
              "      <td>DT</td>\n",
              "      <td>NNP</td>\n",
              "      <td>PRP</td>\n",
              "      <td>6</td>\n",
              "      <td>0</td>\n",
              "      <td>0.0</td>\n",
              "      <td>0.0</td>\n",
              "      <td>0.0</td>\n",
              "      <td>0</td>\n",
              "      <td>0</td>\n",
              "      <td>vague</td>\n",
              "      <td>0</td>\n",
              "    </tr>\n",
              "    <tr>\n",
              "      <th>2</th>\n",
              "      <td>VBZ</td>\n",
              "      <td>VBD</td>\n",
              "      <td>EX</td>\n",
              "      <td>DT</td>\n",
              "      <td>NNS</td>\n",
              "      <td>NNP</td>\n",
              "      <td>16</td>\n",
              "      <td>0</td>\n",
              "      <td>0.0</td>\n",
              "      <td>0.0</td>\n",
              "      <td>0.0</td>\n",
              "      <td>0</td>\n",
              "      <td>0</td>\n",
              "      <td>vague</td>\n",
              "      <td>0</td>\n",
              "    </tr>\n",
              "    <tr>\n",
              "      <th>3</th>\n",
              "      <td>VBZ</td>\n",
              "      <td>VBN</td>\n",
              "      <td>EX</td>\n",
              "      <td>DT</td>\n",
              "      <td>RB</td>\n",
              "      <td>RBR</td>\n",
              "      <td>42</td>\n",
              "      <td>0</td>\n",
              "      <td>0.0</td>\n",
              "      <td>0.0</td>\n",
              "      <td>0.0</td>\n",
              "      <td>1</td>\n",
              "      <td>0</td>\n",
              "      <td>after</td>\n",
              "      <td>2</td>\n",
              "    </tr>\n",
              "    <tr>\n",
              "      <th>4</th>\n",
              "      <td>VBZ</td>\n",
              "      <td>VBP</td>\n",
              "      <td>EX</td>\n",
              "      <td>DT</td>\n",
              "      <td>PRP</td>\n",
              "      <td>JJR</td>\n",
              "      <td>47</td>\n",
              "      <td>0</td>\n",
              "      <td>0.0</td>\n",
              "      <td>0.0</td>\n",
              "      <td>0.0</td>\n",
              "      <td>0</td>\n",
              "      <td>0</td>\n",
              "      <td>after</td>\n",
              "      <td>2</td>\n",
              "    </tr>\n",
              "  </tbody>\n",
              "</table>\n",
              "</div>"
            ],
            "text/plain": [
              "  POS1 POS2 BEFORE_1 AFTER_1 BEFORE_2  ... TEMP_SINCE  SYN  DERIVATION  RELATION  y\n",
              "0  VBD  VBG      NNP     PRP      VBD  ...        0.0    0           0     after  2\n",
              "1  VBZ  VBD       EX      DT      NNP  ...        0.0    0           0     vague  0\n",
              "2  VBZ  VBD       EX      DT      NNS  ...        0.0    0           0     vague  0\n",
              "3  VBZ  VBN       EX      DT       RB  ...        0.0    1           0     after  2\n",
              "4  VBZ  VBP       EX      DT      PRP  ...        0.0    0           0     after  2\n",
              "\n",
              "[5 rows x 15 columns]"
            ]
          },
          "metadata": {
            "tags": []
          },
          "execution_count": 13
        }
      ]
    },
    {
      "cell_type": "code",
      "metadata": {
        "id": "ccl49zOivfyo",
        "colab_type": "code",
        "outputId": "c98c3921-9065-43fe-b4fb-3228f67c7244",
        "colab": {
          "base_uri": "https://localhost:8080/",
          "height": 74
        }
      },
      "source": [
        "print(list(df.columns) )"
      ],
      "execution_count": 14,
      "outputs": [
        {
          "output_type": "stream",
          "text": [
            "['POS1', 'POS2', 'BEFORE_1', 'AFTER_1', 'BEFORE_2', 'AFTER_2', 'DISTANCE', 'MODAL', 'TEMP_BEFORE', 'TEMP_AFTER', 'TEMP_SINCE', 'SYN', 'DERIVATION', 'RELATION', 'y']\n"
          ],
          "name": "stdout"
        }
      ]
    },
    {
      "cell_type": "code",
      "metadata": {
        "id": "D63fziXNujgl",
        "colab_type": "code",
        "colab": {}
      },
      "source": [
        "y_data = df['y']\n",
        "x_data = df[['POS1', 'POS2', 'BEFORE_1', 'AFTER_1', 'BEFORE_2', 'AFTER_2', 'DISTANCE', 'MODAL', 'TEMP_BEFORE', 'TEMP_AFTER', 'TEMP_SINCE', 'SYN', 'DERIVATION']]"
      ],
      "execution_count": 0,
      "outputs": []
    },
    {
      "cell_type": "code",
      "metadata": {
        "id": "LMyMRCFFaWXt",
        "colab_type": "code",
        "colab": {}
      },
      "source": [
        "X_train, X_test, y_train, y_test = train_test_split(x_data, y_data, train_size=0.8, random_state=0)"
      ],
      "execution_count": 0,
      "outputs": []
    },
    {
      "cell_type": "code",
      "metadata": {
        "id": "OzoCV-KckqwD",
        "colab_type": "code",
        "colab": {
          "base_uri": "https://localhost:8080/",
          "height": 68
        },
        "outputId": "68996664-7088-4f9f-fb62-ced99a762a72"
      },
      "source": [
        "from collections import Counter\n",
        "print('dataset shape {}'.format(Counter(y_data)))\n",
        "print('dataset shape {}'.format(Counter(y_train)))\n",
        "print('dataset shape {}'.format(Counter(y_test)))"
      ],
      "execution_count": 17,
      "outputs": [
        {
          "output_type": "stream",
          "text": [
            "dataset shape Counter({0: 309, 1: 202, 2: 108, 3: 43})\n",
            "dataset shape Counter({0: 247, 1: 159, 2: 89, 3: 34})\n",
            "dataset shape Counter({0: 62, 1: 43, 2: 19, 3: 9})\n"
          ],
          "name": "stdout"
        }
      ]
    },
    {
      "cell_type": "markdown",
      "metadata": {
        "id": "bmnZdHP3t0sx",
        "colab_type": "text"
      },
      "source": [
        "# Naíve Bayes"
      ]
    },
    {
      "cell_type": "code",
      "metadata": {
        "id": "aRScwRmlaXBV",
        "colab_type": "code",
        "colab": {}
      },
      "source": [
        "pipeline = Pipeline([    \n",
        "    ('vec', OneHotEncoder()) ,\n",
        "    ('clf', BernoulliNB()),\n",
        "])\n",
        "\n",
        "pipeline.fit(X_train, y_train)\n",
        "y_pred = pipeline.predict(X_test)"
      ],
      "execution_count": 0,
      "outputs": []
    },
    {
      "cell_type": "code",
      "metadata": {
        "id": "7SBw2XyGaXK7",
        "colab_type": "code",
        "outputId": "ec5c3eaa-7d45-49b8-96dc-310eeae10535",
        "colab": {
          "base_uri": "https://localhost:8080/",
          "height": 340
        }
      },
      "source": [
        "\n",
        "def test_model(X_test,y_test, model):\n",
        "    y_pred = model.predict(X_test)\n",
        "    accuracy = accuracy_score(y_pred, y_test)\n",
        "    report = classification_report(y_pred, y_test)\n",
        "    matrix = pd.DataFrame(confusion_matrix(y_test, y_pred),\n",
        "                columns=['p_VAGE', 'p_BEFORE', 'p_AFTER','p_SIMU'], index=['VAGUE', 'BEFORE', 'AFTER','SIMU'])\n",
        "    return accuracy, report, matrix\n",
        "\n",
        "accuracy, report, matrix = test_model(X_test, y_test, pipeline)\n",
        "print(\"the accuracy of the model is {accuracy:.{digits}f}\".format(accuracy=accuracy, digits=2))\n",
        "print()\n",
        "print(report)\n",
        "print()\n",
        "print(matrix)"
      ],
      "execution_count": 34,
      "outputs": [
        {
          "output_type": "stream",
          "text": [
            "the accuracy of the model is 0.50\n",
            "\n",
            "              precision    recall  f1-score   support\n",
            "\n",
            "           0       0.68      0.58      0.62        73\n",
            "           1       0.47      0.48      0.47        42\n",
            "           2       0.21      0.25      0.23        16\n",
            "           3       0.00      0.00      0.00         2\n",
            "\n",
            "    accuracy                           0.50       133\n",
            "   macro avg       0.34      0.33      0.33       133\n",
            "weighted avg       0.54      0.50      0.52       133\n",
            "\n",
            "\n",
            "        p_VAGE  p_BEFORE  p_AFTER  p_SIMU\n",
            "VAGUE       42        13        6       1\n",
            "BEFORE      16        20        6       1\n",
            "AFTER        9         6        4       0\n",
            "SIMU         6         3        0       0\n"
          ],
          "name": "stdout"
        }
      ]
    },
    {
      "cell_type": "markdown",
      "metadata": {
        "id": "Q60M7yunw6v8",
        "colab_type": "text"
      },
      "source": [
        "# Logistic Regression"
      ]
    },
    {
      "cell_type": "code",
      "metadata": {
        "id": "Qc0-CkIKq8p3",
        "colab_type": "code",
        "colab": {}
      },
      "source": [
        ""
      ],
      "execution_count": 0,
      "outputs": []
    },
    {
      "cell_type": "code",
      "metadata": {
        "id": "X9CLXAw4aXIG",
        "colab_type": "code",
        "colab": {}
      },
      "source": [
        "pipeline = Pipeline([    \n",
        "    ('vec', OneHotEncoder()) ,\n",
        "\n",
        "  ('clf', LogisticRegression(\n",
        "      solver='newton-cg',  \n",
        "      multi_class='multinomial', \n",
        "      )),\n",
        "])\n",
        "\n",
        "\n",
        "pipeline.fit(X_train, y_train)\n",
        "y_pred = pipeline.predict(X_test)"
      ],
      "execution_count": 0,
      "outputs": []
    },
    {
      "cell_type": "code",
      "metadata": {
        "id": "xqZRXtA7aWzb",
        "colab_type": "code",
        "outputId": "3caf5c51-d89c-4a93-d1e2-4ae1204261d0",
        "colab": {
          "base_uri": "https://localhost:8080/",
          "height": 340
        }
      },
      "source": [
        "\n",
        "def test_model(X_test,y_test, model):\n",
        "    y_pred = model.predict(X_test)\n",
        "    accuracy = accuracy_score(y_pred, y_test)\n",
        "    report = classification_report(y_pred, y_test)\n",
        "    matrix = pd.DataFrame(confusion_matrix(y_test, y_pred),\n",
        "                columns=['p_VAGE', 'p_BEFORE', 'p_AFTER','p_SIMU'], index=['VAGUE', 'BEFORE', 'AFTER','SIMU'])\n",
        "    return accuracy, report, matrix\n",
        "\n",
        "accuracy, report, matrix = test_model(X_test, y_test, pipeline)\n",
        "print(\"the accuracy of the model is {accuracy:.{digits}f}\".format(accuracy=accuracy, digits=2))\n",
        "print()\n",
        "print(report)\n",
        "print()\n",
        "print(matrix)"
      ],
      "execution_count": 0,
      "outputs": [
        {
          "output_type": "stream",
          "text": [
            "the accuracy of the model is 0.48\n",
            "\n",
            "              precision    recall  f1-score   support\n",
            "\n",
            "           0       0.69      0.56      0.62        77\n",
            "           1       0.40      0.45      0.42        38\n",
            "           2       0.16      0.20      0.18        15\n",
            "           3       0.11      0.33      0.17         3\n",
            "\n",
            "    accuracy                           0.48       133\n",
            "   macro avg       0.34      0.38      0.35       133\n",
            "weighted avg       0.53      0.48      0.50       133\n",
            "\n",
            "\n",
            "        p_VAGE  p_BEFORE  p_AFTER  p_SIMU\n",
            "VAGUE       43        13        5       1\n",
            "BEFORE      18        17        7       1\n",
            "AFTER       12         4        3       0\n",
            "SIMU         4         4        0       1\n"
          ],
          "name": "stdout"
        }
      ]
    },
    {
      "cell_type": "markdown",
      "metadata": {
        "id": "-3ISEZ21xoJX",
        "colab_type": "text"
      },
      "source": [
        "# Random Forest"
      ]
    },
    {
      "cell_type": "code",
      "metadata": {
        "id": "jPhtfn9CaWyJ",
        "colab_type": "code",
        "colab": {}
      },
      "source": [
        "pipeline = Pipeline([    \n",
        "    ('vec', OneHotEncoder()) ,\n",
        "  ('clf', RandomForestClassifier(n_estimators = 100,\n",
        "                        min_samples_split = 2,\n",
        "                        max_depth = 202,))\n",
        "])\n",
        "\n",
        "\n",
        "pipeline.fit(X_train, y_train)\n",
        "y_pred = pipeline.predict(X_test)"
      ],
      "execution_count": 0,
      "outputs": []
    },
    {
      "cell_type": "code",
      "metadata": {
        "id": "MgYGAQ-IaWvC",
        "colab_type": "code",
        "outputId": "a9c20d34-7ba3-4c22-ce8a-b2213ab95f3b",
        "colab": {
          "base_uri": "https://localhost:8080/",
          "height": 340
        }
      },
      "source": [
        "\n",
        "def test_model(X_test,y_test, model):\n",
        "    y_pred = model.predict(X_test)\n",
        "    accuracy = accuracy_score(y_pred, y_test)\n",
        "    report = classification_report(y_pred, y_test)\n",
        "    matrix = pd.DataFrame(confusion_matrix(y_test, y_pred),\n",
        "                columns=['p_VAGE', 'p_BEFORE', 'p_AFTER','p_SIMU'], index=['VAGUE', 'BEFORE', 'AFTER','SIMU'])\n",
        "    return accuracy, report, matrix\n",
        "\n",
        "accuracy, report, matrix = test_model(X_test, y_test, pipeline)\n",
        "print(\"the accuracy of the model is {accuracy:.{digits}f}\".format(accuracy=accuracy, digits=2))\n",
        "print()\n",
        "print(report)\n",
        "print()\n",
        "print(matrix)"
      ],
      "execution_count": 0,
      "outputs": [
        {
          "output_type": "stream",
          "text": [
            "the accuracy of the model is 0.53\n",
            "\n",
            "              precision    recall  f1-score   support\n",
            "\n",
            "           0       0.82      0.54      0.65        94\n",
            "           1       0.40      0.55      0.46        31\n",
            "           2       0.11      0.40      0.17         5\n",
            "           3       0.00      0.00      0.00         3\n",
            "\n",
            "    accuracy                           0.53       133\n",
            "   macro avg       0.33      0.37      0.32       133\n",
            "weighted avg       0.68      0.53      0.58       133\n",
            "\n",
            "\n",
            "        p_VAGE  p_BEFORE  p_AFTER  p_SIMU\n",
            "VAGUE       51         7        3       1\n",
            "BEFORE      24        17        0       2\n",
            "AFTER       13         4        2       0\n",
            "SIMU         6         3        0       0\n"
          ],
          "name": "stdout"
        }
      ]
    },
    {
      "cell_type": "code",
      "metadata": {
        "id": "jC1_r8qX0hLH",
        "colab_type": "code",
        "colab": {}
      },
      "source": [
        ""
      ],
      "execution_count": 0,
      "outputs": []
    },
    {
      "cell_type": "markdown",
      "metadata": {
        "id": "WK_iReiErLwU",
        "colab_type": "text"
      },
      "source": [
        "## GradientBoosting"
      ]
    },
    {
      "cell_type": "code",
      "metadata": {
        "id": "NM2qpVOOaWny",
        "colab_type": "code",
        "colab": {}
      },
      "source": [
        "from sklearn.ensemble import GradientBoostingClassifier"
      ],
      "execution_count": 0,
      "outputs": []
    },
    {
      "cell_type": "code",
      "metadata": {
        "id": "3x2M7NJoaWap",
        "colab_type": "code",
        "colab": {
          "base_uri": "https://localhost:8080/",
          "height": 357
        },
        "outputId": "72ac1914-82a0-4c25-f00c-ba15f3b7b2e2"
      },
      "source": [
        "pipeline = Pipeline([    \n",
        "  ('vec', OneHotEncoder()) ,\n",
        "  ('clf', GradientBoostingClassifier())\n",
        "])\n",
        "\n",
        "from collections import Counter\n",
        "print('dataset shape {}'.format(Counter(y_train)))\n",
        "pipeline.fit(X_train, y_train)\n",
        "y_pred = pipeline.predict(X_test)\n",
        "\n",
        "def test_model(X_test,y_test, model):\n",
        "    y_pred = model.predict(X_test)\n",
        "    accuracy = accuracy_score(y_pred, y_test)\n",
        "    report = classification_report(y_pred, y_test)\n",
        "    matrix = pd.DataFrame(confusion_matrix(y_test, y_pred),\n",
        "                columns=['p_VAGE', 'p_BEFORE', 'p_AFTER','p_SIMU'], index=['VAGUE', 'BEFORE', 'AFTER','SIMU'])\n",
        "    return accuracy, report, matrix\n",
        "\n",
        "accuracy, report, matrix = test_model(X_test, y_test, pipeline)\n",
        "print(\"the accuracy of the model is {accuracy:.{digits}f}\".format(accuracy=accuracy, digits=2))\n",
        "print()\n",
        "print(report)\n",
        "print()\n",
        "print(matrix)"
      ],
      "execution_count": 41,
      "outputs": [
        {
          "output_type": "stream",
          "text": [
            "dataset shape Counter({0: 247, 1: 159, 2: 89, 3: 34})\n",
            "the accuracy of the model is 0.52\n",
            "\n",
            "              precision    recall  f1-score   support\n",
            "\n",
            "           0       0.84      0.53      0.65        98\n",
            "           1       0.37      0.55      0.44        29\n",
            "           2       0.05      0.20      0.08         5\n",
            "           3       0.00      0.00      0.00         1\n",
            "\n",
            "    accuracy                           0.52       133\n",
            "   macro avg       0.32      0.32      0.29       133\n",
            "weighted avg       0.70      0.52      0.58       133\n",
            "\n",
            "\n",
            "        p_VAGE  p_BEFORE  p_AFTER  p_SIMU\n",
            "VAGUE       52         7        2       1\n",
            "BEFORE      25        16        2       0\n",
            "AFTER       15         3        1       0\n",
            "SIMU         6         3        0       0\n"
          ],
          "name": "stdout"
        }
      ]
    }
  ]
}